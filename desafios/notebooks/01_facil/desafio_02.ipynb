{
 "cells": [
  {
   "cell_type": "markdown",
   "id": "3dc6f6a9-0efc-45e5-9ddf-259913c6fe00",
   "metadata": {},
   "source": [
    "## Desafio 02. Localizações vazias"
   ]
  },
  {
   "cell_type": "markdown",
   "id": "9cc2147c-ea3e-4698-bb6c-0e4a4d58c849",
   "metadata": {},
   "source": [
    "### Bibliotecas"
   ]
  },
  {
   "cell_type": "code",
   "execution_count": 1,
   "id": "864422e4-e8f4-47bd-8485-37b2ff6b80a7",
   "metadata": {},
   "outputs": [],
   "source": [
    "import pandas as pd\n",
    "\n",
    "# Módulo de conexão com banco\n",
    "import sys\n",
    "sys.path.append('../') \n",
    "import funcoesconexao as con\n",
    "\n",
    "# Desativa warnings\n",
    "import warnings\n",
    "warnings.filterwarnings('ignore')"
   ]
  },
  {
   "cell_type": "markdown",
   "id": "d83c886c-1ebe-4a1e-8d6f-e4e7dd2799d9",
   "metadata": {},
   "source": [
    "### Carregamento dos Dados"
   ]
  },
  {
   "cell_type": "markdown",
   "id": "536326eb-4d01-4945-9395-dd26092aff22",
   "metadata": {},
   "source": [
    "#### Via banco de dados — SQL Server"
   ]
  },
  {
   "cell_type": "code",
   "execution_count": 2,
   "id": "54811105-4b69-472d-9d50-7e37c4d1e268",
   "metadata": {},
   "outputs": [
    {
     "name": "stdout",
     "output_type": "stream",
     "text": [
      "----- Conexão com banco de dados estabelecida com sucesso! -----\n"
     ]
    }
   ],
   "source": [
    "conexao = con.conectar_bd()"
   ]
  },
  {
   "cell_type": "code",
   "execution_count": 3,
   "id": "455f6edc-9286-4f73-a02f-77e6efae91bc",
   "metadata": {},
   "outputs": [],
   "source": [
    "# Carregando dataframes\n",
    "df_localizacoes = con.carregar_dados(conexao, 'localizacoes')\n",
    "df_usuarios     = con.carregar_dados(conexao, 'usuarios')\n",
    "\n",
    "# Fechando conexão\n",
    "con.fechar_conexao_bd(conexao)"
   ]
  },
  {
   "cell_type": "code",
   "execution_count": 4,
   "id": "1cadcb06-03e9-41c9-bef7-71e8ebf61be2",
   "metadata": {},
   "outputs": [
    {
     "data": {
      "text/html": [
       "<div>\n",
       "<style scoped>\n",
       "    .dataframe tbody tr th:only-of-type {\n",
       "        vertical-align: middle;\n",
       "    }\n",
       "\n",
       "    .dataframe tbody tr th {\n",
       "        vertical-align: top;\n",
       "    }\n",
       "\n",
       "    .dataframe thead th {\n",
       "        text-align: right;\n",
       "    }\n",
       "</style>\n",
       "<table border=\"1\" class=\"dataframe\">\n",
       "  <thead>\n",
       "    <tr style=\"text-align: right;\">\n",
       "      <th></th>\n",
       "      <th>id</th>\n",
       "      <th>nome</th>\n",
       "      <th>cidade_id</th>\n",
       "    </tr>\n",
       "  </thead>\n",
       "  <tbody>\n",
       "    <tr>\n",
       "      <th>0</th>\n",
       "      <td>1</td>\n",
       "      <td>Pinheiros</td>\n",
       "      <td>1</td>\n",
       "    </tr>\n",
       "    <tr>\n",
       "      <th>1</th>\n",
       "      <td>2</td>\n",
       "      <td>Vila Madalena</td>\n",
       "      <td>1</td>\n",
       "    </tr>\n",
       "    <tr>\n",
       "      <th>2</th>\n",
       "      <td>3</td>\n",
       "      <td>Copacabana</td>\n",
       "      <td>2</td>\n",
       "    </tr>\n",
       "    <tr>\n",
       "      <th>3</th>\n",
       "      <td>4</td>\n",
       "      <td>Barra da Tijuca</td>\n",
       "      <td>2</td>\n",
       "    </tr>\n",
       "    <tr>\n",
       "      <th>4</th>\n",
       "      <td>5</td>\n",
       "      <td>Savassi</td>\n",
       "      <td>3</td>\n",
       "    </tr>\n",
       "  </tbody>\n",
       "</table>\n",
       "</div>"
      ],
      "text/plain": [
       "   id             nome  cidade_id\n",
       "0   1        Pinheiros          1\n",
       "1   2    Vila Madalena          1\n",
       "2   3       Copacabana          2\n",
       "3   4  Barra da Tijuca          2\n",
       "4   5          Savassi          3"
      ]
     },
     "metadata": {},
     "output_type": "display_data"
    },
    {
     "data": {
      "text/html": [
       "<div>\n",
       "<style scoped>\n",
       "    .dataframe tbody tr th:only-of-type {\n",
       "        vertical-align: middle;\n",
       "    }\n",
       "\n",
       "    .dataframe tbody tr th {\n",
       "        vertical-align: top;\n",
       "    }\n",
       "\n",
       "    .dataframe thead th {\n",
       "        text-align: right;\n",
       "    }\n",
       "</style>\n",
       "<table border=\"1\" class=\"dataframe\">\n",
       "  <thead>\n",
       "    <tr style=\"text-align: right;\">\n",
       "      <th></th>\n",
       "      <th>id</th>\n",
       "      <th>nome</th>\n",
       "      <th>data_criacao</th>\n",
       "      <th>localizacao_id</th>\n",
       "      <th>email</th>\n",
       "    </tr>\n",
       "  </thead>\n",
       "  <tbody>\n",
       "    <tr>\n",
       "      <th>0</th>\n",
       "      <td>1</td>\n",
       "      <td>João Silva</td>\n",
       "      <td>2019-10-15</td>\n",
       "      <td>1</td>\n",
       "      <td>joao.silva@empresa.com</td>\n",
       "    </tr>\n",
       "    <tr>\n",
       "      <th>1</th>\n",
       "      <td>2</td>\n",
       "      <td>Maria Souza</td>\n",
       "      <td>2019-10-15</td>\n",
       "      <td>2</td>\n",
       "      <td>maria.souza@empresa.com</td>\n",
       "    </tr>\n",
       "    <tr>\n",
       "      <th>2</th>\n",
       "      <td>3</td>\n",
       "      <td>Carlos Oliveira</td>\n",
       "      <td>2019-10-15</td>\n",
       "      <td>3</td>\n",
       "      <td>carlos.oliveira@empresa.com</td>\n",
       "    </tr>\n",
       "    <tr>\n",
       "      <th>3</th>\n",
       "      <td>4</td>\n",
       "      <td>Ana Pereira</td>\n",
       "      <td>2019-10-15</td>\n",
       "      <td>1</td>\n",
       "      <td>ana.pereira@empresa.com</td>\n",
       "    </tr>\n",
       "    <tr>\n",
       "      <th>4</th>\n",
       "      <td>5</td>\n",
       "      <td>Pedro Costa</td>\n",
       "      <td>2019-10-15</td>\n",
       "      <td>2</td>\n",
       "      <td>pedro.costa@empresa.com</td>\n",
       "    </tr>\n",
       "  </tbody>\n",
       "</table>\n",
       "</div>"
      ],
      "text/plain": [
       "   id             nome data_criacao  localizacao_id  \\\n",
       "0   1       João Silva   2019-10-15               1   \n",
       "1   2      Maria Souza   2019-10-15               2   \n",
       "2   3  Carlos Oliveira   2019-10-15               3   \n",
       "3   4      Ana Pereira   2019-10-15               1   \n",
       "4   5      Pedro Costa   2019-10-15               2   \n",
       "\n",
       "                         email  \n",
       "0       joao.silva@empresa.com  \n",
       "1      maria.souza@empresa.com  \n",
       "2  carlos.oliveira@empresa.com  \n",
       "3      ana.pereira@empresa.com  \n",
       "4      pedro.costa@empresa.com  "
      ]
     },
     "metadata": {},
     "output_type": "display_data"
    }
   ],
   "source": [
    "# Exibindo dataframes\n",
    "display(df_localizacoes.head())\n",
    "display(df_usuarios.head())"
   ]
  },
  {
   "cell_type": "markdown",
   "id": "b290d10b-c908-49e4-a129-49b482361c13",
   "metadata": {},
   "source": [
    "#### Via arquivo .CSV"
   ]
  },
  {
   "cell_type": "code",
   "execution_count": 5,
   "id": "76188c45-4dc5-4793-ba1b-21064fdcf30c",
   "metadata": {},
   "outputs": [],
   "source": [
    "# Carregando dataframes\n",
    "df_localizacoes = con.carregar_dados_csv('localizacoes.csv')\n",
    "df_usuarios     = con.carregar_dados_csv('usuarios.csv')"
   ]
  },
  {
   "cell_type": "code",
   "execution_count": 6,
   "id": "a21f9290-84f8-4f39-ae5d-faa90730ef4d",
   "metadata": {},
   "outputs": [
    {
     "data": {
      "text/html": [
       "<div>\n",
       "<style scoped>\n",
       "    .dataframe tbody tr th:only-of-type {\n",
       "        vertical-align: middle;\n",
       "    }\n",
       "\n",
       "    .dataframe tbody tr th {\n",
       "        vertical-align: top;\n",
       "    }\n",
       "\n",
       "    .dataframe thead th {\n",
       "        text-align: right;\n",
       "    }\n",
       "</style>\n",
       "<table border=\"1\" class=\"dataframe\">\n",
       "  <thead>\n",
       "    <tr style=\"text-align: right;\">\n",
       "      <th></th>\n",
       "      <th>id</th>\n",
       "      <th>nome</th>\n",
       "      <th>cidade_id</th>\n",
       "    </tr>\n",
       "  </thead>\n",
       "  <tbody>\n",
       "    <tr>\n",
       "      <th>0</th>\n",
       "      <td>1</td>\n",
       "      <td>Pinheiros</td>\n",
       "      <td>1</td>\n",
       "    </tr>\n",
       "    <tr>\n",
       "      <th>1</th>\n",
       "      <td>2</td>\n",
       "      <td>Vila Madalena</td>\n",
       "      <td>1</td>\n",
       "    </tr>\n",
       "    <tr>\n",
       "      <th>2</th>\n",
       "      <td>3</td>\n",
       "      <td>Copacabana</td>\n",
       "      <td>2</td>\n",
       "    </tr>\n",
       "    <tr>\n",
       "      <th>3</th>\n",
       "      <td>4</td>\n",
       "      <td>Barra da Tijuca</td>\n",
       "      <td>2</td>\n",
       "    </tr>\n",
       "    <tr>\n",
       "      <th>4</th>\n",
       "      <td>5</td>\n",
       "      <td>Savassi</td>\n",
       "      <td>3</td>\n",
       "    </tr>\n",
       "  </tbody>\n",
       "</table>\n",
       "</div>"
      ],
      "text/plain": [
       "   id             nome  cidade_id\n",
       "0   1        Pinheiros          1\n",
       "1   2    Vila Madalena          1\n",
       "2   3       Copacabana          2\n",
       "3   4  Barra da Tijuca          2\n",
       "4   5          Savassi          3"
      ]
     },
     "metadata": {},
     "output_type": "display_data"
    },
    {
     "data": {
      "text/html": [
       "<div>\n",
       "<style scoped>\n",
       "    .dataframe tbody tr th:only-of-type {\n",
       "        vertical-align: middle;\n",
       "    }\n",
       "\n",
       "    .dataframe tbody tr th {\n",
       "        vertical-align: top;\n",
       "    }\n",
       "\n",
       "    .dataframe thead th {\n",
       "        text-align: right;\n",
       "    }\n",
       "</style>\n",
       "<table border=\"1\" class=\"dataframe\">\n",
       "  <thead>\n",
       "    <tr style=\"text-align: right;\">\n",
       "      <th></th>\n",
       "      <th>id</th>\n",
       "      <th>nome</th>\n",
       "      <th>data_criacao</th>\n",
       "      <th>localizacao_id</th>\n",
       "      <th>email</th>\n",
       "    </tr>\n",
       "  </thead>\n",
       "  <tbody>\n",
       "    <tr>\n",
       "      <th>0</th>\n",
       "      <td>1</td>\n",
       "      <td>João Silva</td>\n",
       "      <td>2019-10-15 00:00:00.000</td>\n",
       "      <td>1</td>\n",
       "      <td>joao.silva@empresa.com</td>\n",
       "    </tr>\n",
       "    <tr>\n",
       "      <th>1</th>\n",
       "      <td>2</td>\n",
       "      <td>Maria Souza</td>\n",
       "      <td>2019-10-15 00:00:00.000</td>\n",
       "      <td>2</td>\n",
       "      <td>maria.souza@empresa.com</td>\n",
       "    </tr>\n",
       "    <tr>\n",
       "      <th>2</th>\n",
       "      <td>3</td>\n",
       "      <td>Carlos Oliveira</td>\n",
       "      <td>2019-10-15 00:00:00.000</td>\n",
       "      <td>3</td>\n",
       "      <td>carlos.oliveira@empresa.com</td>\n",
       "    </tr>\n",
       "    <tr>\n",
       "      <th>3</th>\n",
       "      <td>4</td>\n",
       "      <td>Ana Pereira</td>\n",
       "      <td>2019-10-15 00:00:00.000</td>\n",
       "      <td>1</td>\n",
       "      <td>ana.pereira@empresa.com</td>\n",
       "    </tr>\n",
       "    <tr>\n",
       "      <th>4</th>\n",
       "      <td>5</td>\n",
       "      <td>Pedro Costa</td>\n",
       "      <td>2019-10-15 00:00:00.000</td>\n",
       "      <td>2</td>\n",
       "      <td>pedro.costa@empresa.com</td>\n",
       "    </tr>\n",
       "  </tbody>\n",
       "</table>\n",
       "</div>"
      ],
      "text/plain": [
       "   id             nome             data_criacao  localizacao_id  \\\n",
       "0   1       João Silva  2019-10-15 00:00:00.000               1   \n",
       "1   2      Maria Souza  2019-10-15 00:00:00.000               2   \n",
       "2   3  Carlos Oliveira  2019-10-15 00:00:00.000               3   \n",
       "3   4      Ana Pereira  2019-10-15 00:00:00.000               1   \n",
       "4   5      Pedro Costa  2019-10-15 00:00:00.000               2   \n",
       "\n",
       "                         email  \n",
       "0       joao.silva@empresa.com  \n",
       "1      maria.souza@empresa.com  \n",
       "2  carlos.oliveira@empresa.com  \n",
       "3      ana.pereira@empresa.com  \n",
       "4      pedro.costa@empresa.com  "
      ]
     },
     "metadata": {},
     "output_type": "display_data"
    }
   ],
   "source": [
    "# Exibindo dataframes\n",
    "display(df_localizacoes.head())\n",
    "display(df_usuarios.head())"
   ]
  },
  {
   "cell_type": "markdown",
   "id": "bc049523-9f6c-4f35-83c1-30c37acb2bd7",
   "metadata": {},
   "source": [
    "### Solução"
   ]
  },
  {
   "cell_type": "code",
   "execution_count": 7,
   "id": "bac965f2-8c29-461d-a219-d3a7195fee17",
   "metadata": {},
   "outputs": [],
   "source": [
    "def localizacoes_vazias(localizacoes: pd.DataFrame, usuarios: pd.DataFrame):\n",
    "    # Mesclando dataframes\n",
    "    df_merge = pd.merge(localizacoes, usuarios, left_on='id', right_on='localizacao_id', how='left')\n",
    "    \n",
    "    # Agrupando por Localização\n",
    "    df_agrupado = df_merge.groupby('nome_x').count()\n",
    "    \n",
    "    # Filtrando apenas localizações vazias\n",
    "    lista_localizacoes_vazias = sorted(df_agrupado[df_agrupado['id_y'] == 0].index.tolist())\n",
    "    \n",
    "    # Convertendo lista em dataframe\n",
    "    df = pd.DataFrame({'nome': lista_localizacoes_vazias})\n",
    "    \n",
    "    # Saída\n",
    "    return df"
   ]
  },
  {
   "cell_type": "code",
   "execution_count": 8,
   "id": "fd990250-3199-46b7-8568-a6510d56fc8b",
   "metadata": {},
   "outputs": [
    {
     "data": {
      "text/html": [
       "<div>\n",
       "<style scoped>\n",
       "    .dataframe tbody tr th:only-of-type {\n",
       "        vertical-align: middle;\n",
       "    }\n",
       "\n",
       "    .dataframe tbody tr th {\n",
       "        vertical-align: top;\n",
       "    }\n",
       "\n",
       "    .dataframe thead th {\n",
       "        text-align: right;\n",
       "    }\n",
       "</style>\n",
       "<table border=\"1\" class=\"dataframe\">\n",
       "  <thead>\n",
       "    <tr style=\"text-align: right;\">\n",
       "      <th></th>\n",
       "      <th>nome</th>\n",
       "    </tr>\n",
       "  </thead>\n",
       "  <tbody>\n",
       "    <tr>\n",
       "      <th>0</th>\n",
       "      <td>Guararapes</td>\n",
       "    </tr>\n",
       "    <tr>\n",
       "      <th>1</th>\n",
       "      <td>Itaparica</td>\n",
       "    </tr>\n",
       "    <tr>\n",
       "      <th>2</th>\n",
       "      <td>Itapuã</td>\n",
       "    </tr>\n",
       "    <tr>\n",
       "      <th>3</th>\n",
       "      <td>Jardim Camburi</td>\n",
       "    </tr>\n",
       "    <tr>\n",
       "      <th>4</th>\n",
       "      <td>Savassi</td>\n",
       "    </tr>\n",
       "  </tbody>\n",
       "</table>\n",
       "</div>"
      ],
      "text/plain": [
       "             nome\n",
       "0      Guararapes\n",
       "1       Itaparica\n",
       "2          Itapuã\n",
       "3  Jardim Camburi\n",
       "4         Savassi"
      ]
     },
     "execution_count": 8,
     "metadata": {},
     "output_type": "execute_result"
    }
   ],
   "source": [
    "localizacoes_vazias(df_localizacoes, df_usuarios)"
   ]
  }
 ],
 "metadata": {
  "kernelspec": {
   "display_name": "Python 3 (ipykernel)",
   "language": "python",
   "name": "python3"
  },
  "language_info": {
   "codemirror_mode": {
    "name": "ipython",
    "version": 3
   },
   "file_extension": ".py",
   "mimetype": "text/x-python",
   "name": "python",
   "nbconvert_exporter": "python",
   "pygments_lexer": "ipython3",
   "version": "3.11.7"
  }
 },
 "nbformat": 4,
 "nbformat_minor": 5
}
