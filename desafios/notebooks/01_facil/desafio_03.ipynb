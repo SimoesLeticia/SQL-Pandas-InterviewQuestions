{
 "cells": [
  {
   "cell_type": "markdown",
   "id": "df9ae885-2ddf-4ded-9cb6-5546667ab2d6",
   "metadata": {},
   "source": [
    "## Desafio 03. Última transação bancária\n"
   ]
  },
  {
   "cell_type": "markdown",
   "id": "405812c3-dba8-42d7-aa7a-c325b7edb2ac",
   "metadata": {},
   "source": [
    "### Bibliotecas"
   ]
  },
  {
   "cell_type": "code",
   "execution_count": 1,
   "id": "93937cc5-5097-47bd-8eab-9b06466133ee",
   "metadata": {},
   "outputs": [],
   "source": [
    "import pandas as pd\n",
    "\n",
    "# Módulo de conexão com banco\n",
    "import sys\n",
    "sys.path.append('../') \n",
    "import funcoesconexao as con\n",
    "\n",
    "# Desativa warnings\n",
    "import warnings\n",
    "warnings.filterwarnings('ignore')"
   ]
  },
  {
   "cell_type": "markdown",
   "id": "c9668463-0148-4b9a-bca7-e2f45078674d",
   "metadata": {},
   "source": [
    "### Carregamento dos Dados\n"
   ]
  },
  {
   "cell_type": "markdown",
   "id": "e028a32f-3b12-44a9-ae62-3fba83ccd1fe",
   "metadata": {},
   "source": [
    "#### Via banco de dados — SQL Server"
   ]
  },
  {
   "cell_type": "code",
   "execution_count": 2,
   "id": "f92d2360-5dc4-4db5-b64d-1b6af547fca1",
   "metadata": {},
   "outputs": [
    {
     "name": "stdout",
     "output_type": "stream",
     "text": [
      "----- Conexão com banco de dados estabelecida com sucesso! -----\n"
     ]
    }
   ],
   "source": [
    "conexao = con.conectar_bd()"
   ]
  },
  {
   "cell_type": "code",
   "execution_count": 3,
   "id": "024db73c-5a86-41a2-9a5e-81cca5c55a2f",
   "metadata": {},
   "outputs": [],
   "source": [
    "# Carregando dataframes\n",
    "df_transacoes_bancarias = con.carregar_dados(conexao, 'transacoes_bancarias')\n",
    "\n",
    "# Fechando conexão\n",
    "con.fechar_conexao_bd(conexao)"
   ]
  },
  {
   "cell_type": "code",
   "execution_count": 4,
   "id": "f00d954e-4c5d-4980-94fa-f2120df66871",
   "metadata": {},
   "outputs": [
    {
     "data": {
      "text/html": [
       "<div>\n",
       "<style scoped>\n",
       "    .dataframe tbody tr th:only-of-type {\n",
       "        vertical-align: middle;\n",
       "    }\n",
       "\n",
       "    .dataframe tbody tr th {\n",
       "        vertical-align: top;\n",
       "    }\n",
       "\n",
       "    .dataframe thead th {\n",
       "        text-align: right;\n",
       "    }\n",
       "</style>\n",
       "<table border=\"1\" class=\"dataframe\">\n",
       "  <thead>\n",
       "    <tr style=\"text-align: right;\">\n",
       "      <th></th>\n",
       "      <th>id</th>\n",
       "      <th>data_criacao</th>\n",
       "      <th>valor_transacao</th>\n",
       "    </tr>\n",
       "  </thead>\n",
       "  <tbody>\n",
       "    <tr>\n",
       "      <th>0</th>\n",
       "      <td>1</td>\n",
       "      <td>2020-10-01 13:15:45</td>\n",
       "      <td>100.00</td>\n",
       "    </tr>\n",
       "    <tr>\n",
       "      <th>1</th>\n",
       "      <td>2</td>\n",
       "      <td>2020-10-01 15:10:00</td>\n",
       "      <td>55.90</td>\n",
       "    </tr>\n",
       "    <tr>\n",
       "      <th>2</th>\n",
       "      <td>3</td>\n",
       "      <td>2020-10-02 08:15:30</td>\n",
       "      <td>12.50</td>\n",
       "    </tr>\n",
       "    <tr>\n",
       "      <th>3</th>\n",
       "      <td>4</td>\n",
       "      <td>2020-10-02 08:35:00</td>\n",
       "      <td>220.00</td>\n",
       "    </tr>\n",
       "    <tr>\n",
       "      <th>4</th>\n",
       "      <td>5</td>\n",
       "      <td>2020-10-02 09:40:50</td>\n",
       "      <td>330.88</td>\n",
       "    </tr>\n",
       "  </tbody>\n",
       "</table>\n",
       "</div>"
      ],
      "text/plain": [
       "   id        data_criacao  valor_transacao\n",
       "0   1 2020-10-01 13:15:45           100.00\n",
       "1   2 2020-10-01 15:10:00            55.90\n",
       "2   3 2020-10-02 08:15:30            12.50\n",
       "3   4 2020-10-02 08:35:00           220.00\n",
       "4   5 2020-10-02 09:40:50           330.88"
      ]
     },
     "metadata": {},
     "output_type": "display_data"
    }
   ],
   "source": [
    "# Exibindo dataframes\n",
    "display(df_transacoes_bancarias.head())"
   ]
  },
  {
   "cell_type": "markdown",
   "id": "405be4a7-cb1f-4f0d-90c3-cdaf4d3e745c",
   "metadata": {},
   "source": [
    "#### Via arquivo .CSV"
   ]
  },
  {
   "cell_type": "code",
   "execution_count": 5,
   "id": "b6152375-64bc-4b02-81e6-3d2201900c6c",
   "metadata": {},
   "outputs": [],
   "source": [
    "df_transacoes_bancarias = con.carregar_dados_csv('transacoes_bancarias.csv')"
   ]
  },
  {
   "cell_type": "code",
   "execution_count": 6,
   "id": "49b88ffd-5cc9-4ee3-a0de-87d593a3344a",
   "metadata": {},
   "outputs": [
    {
     "data": {
      "text/html": [
       "<div>\n",
       "<style scoped>\n",
       "    .dataframe tbody tr th:only-of-type {\n",
       "        vertical-align: middle;\n",
       "    }\n",
       "\n",
       "    .dataframe tbody tr th {\n",
       "        vertical-align: top;\n",
       "    }\n",
       "\n",
       "    .dataframe thead th {\n",
       "        text-align: right;\n",
       "    }\n",
       "</style>\n",
       "<table border=\"1\" class=\"dataframe\">\n",
       "  <thead>\n",
       "    <tr style=\"text-align: right;\">\n",
       "      <th></th>\n",
       "      <th>id</th>\n",
       "      <th>data_criacao</th>\n",
       "      <th>valor_transacao</th>\n",
       "    </tr>\n",
       "  </thead>\n",
       "  <tbody>\n",
       "    <tr>\n",
       "      <th>0</th>\n",
       "      <td>1</td>\n",
       "      <td>2020-10-01 13:15:45.000</td>\n",
       "      <td>100</td>\n",
       "    </tr>\n",
       "    <tr>\n",
       "      <th>1</th>\n",
       "      <td>2</td>\n",
       "      <td>2020-10-01 15:10:00.000</td>\n",
       "      <td>55,9</td>\n",
       "    </tr>\n",
       "    <tr>\n",
       "      <th>2</th>\n",
       "      <td>3</td>\n",
       "      <td>2020-10-02 08:15:30.000</td>\n",
       "      <td>12,5</td>\n",
       "    </tr>\n",
       "    <tr>\n",
       "      <th>3</th>\n",
       "      <td>4</td>\n",
       "      <td>2020-10-02 08:35:00.000</td>\n",
       "      <td>220</td>\n",
       "    </tr>\n",
       "    <tr>\n",
       "      <th>4</th>\n",
       "      <td>5</td>\n",
       "      <td>2020-10-02 09:40:50.000</td>\n",
       "      <td>330,88</td>\n",
       "    </tr>\n",
       "  </tbody>\n",
       "</table>\n",
       "</div>"
      ],
      "text/plain": [
       "   id             data_criacao valor_transacao\n",
       "0   1  2020-10-01 13:15:45.000             100\n",
       "1   2  2020-10-01 15:10:00.000            55,9\n",
       "2   3  2020-10-02 08:15:30.000            12,5\n",
       "3   4  2020-10-02 08:35:00.000             220\n",
       "4   5  2020-10-02 09:40:50.000          330,88"
      ]
     },
     "metadata": {},
     "output_type": "display_data"
    }
   ],
   "source": [
    "# Exibindo dataframes\n",
    "display(df_transacoes_bancarias.head())"
   ]
  },
  {
   "cell_type": "markdown",
   "id": "c51495af-5e40-4e6c-a995-aa6ac9b00b07",
   "metadata": {},
   "source": [
    "### Solução"
   ]
  },
  {
   "cell_type": "code",
   "execution_count": 7,
   "id": "f9c5c95d-f6df-4dc0-9d8a-4f8a1b411021",
   "metadata": {},
   "outputs": [],
   "source": [
    "def ultima_transacao(transacoes_bancarias: pd.DataFrame):\n",
    "    # Ordenando os registros pela data_criacao\n",
    "    transacoes_bancarias.sort_values(by='data_criacao', inplace=True)\n",
    "    \n",
    "    # Convertendo campo data_criacao de datetime para date\n",
    "    transacoes_bancarias['data_criacao'] = pd.to_datetime(transacoes_bancarias['data_criacao']).dt.date\n",
    "    \n",
    "    # Agrupando pela data_criacao e selecionando o último registro de cada dia\n",
    "    ultimas_transacoes = transacoes_bancarias.groupby(transacoes_bancarias['data_criacao']).tail(1)\n",
    "    \n",
    "    # Ajustando posição das colunas e ordenando pela data_criacao\n",
    "    ultimas_transacoes = ultimas_transacoes[['data_criacao', 'valor_transacao', 'id']].sort_values(by='data_criacao')\n",
    "    \n",
    "    # Saída\n",
    "    return ultimas_transacoes "
   ]
  },
  {
   "cell_type": "code",
   "execution_count": 8,
   "id": "aafa3bf7-8ddf-4f67-8616-96d1cbc28817",
   "metadata": {},
   "outputs": [
    {
     "data": {
      "text/html": [
       "<div>\n",
       "<style scoped>\n",
       "    .dataframe tbody tr th:only-of-type {\n",
       "        vertical-align: middle;\n",
       "    }\n",
       "\n",
       "    .dataframe tbody tr th {\n",
       "        vertical-align: top;\n",
       "    }\n",
       "\n",
       "    .dataframe thead th {\n",
       "        text-align: right;\n",
       "    }\n",
       "</style>\n",
       "<table border=\"1\" class=\"dataframe\">\n",
       "  <thead>\n",
       "    <tr style=\"text-align: right;\">\n",
       "      <th></th>\n",
       "      <th>data_criacao</th>\n",
       "      <th>valor_transacao</th>\n",
       "      <th>id</th>\n",
       "    </tr>\n",
       "  </thead>\n",
       "  <tbody>\n",
       "    <tr>\n",
       "      <th>1</th>\n",
       "      <td>2020-10-01</td>\n",
       "      <td>55,9</td>\n",
       "      <td>2</td>\n",
       "    </tr>\n",
       "    <tr>\n",
       "      <th>4</th>\n",
       "      <td>2020-10-02</td>\n",
       "      <td>330,88</td>\n",
       "      <td>5</td>\n",
       "    </tr>\n",
       "    <tr>\n",
       "      <th>6</th>\n",
       "      <td>2020-10-03</td>\n",
       "      <td>25,3</td>\n",
       "      <td>7</td>\n",
       "    </tr>\n",
       "    <tr>\n",
       "      <th>7</th>\n",
       "      <td>2020-10-04</td>\n",
       "      <td>600</td>\n",
       "      <td>8</td>\n",
       "    </tr>\n",
       "    <tr>\n",
       "      <th>9</th>\n",
       "      <td>2020-10-05</td>\n",
       "      <td>118,45</td>\n",
       "      <td>10</td>\n",
       "    </tr>\n",
       "  </tbody>\n",
       "</table>\n",
       "</div>"
      ],
      "text/plain": [
       "  data_criacao valor_transacao  id\n",
       "1   2020-10-01            55,9   2\n",
       "4   2020-10-02          330,88   5\n",
       "6   2020-10-03            25,3   7\n",
       "7   2020-10-04             600   8\n",
       "9   2020-10-05          118,45  10"
      ]
     },
     "execution_count": 8,
     "metadata": {},
     "output_type": "execute_result"
    }
   ],
   "source": [
    "ultima_transacao(df_transacoes_bancarias)"
   ]
  }
 ],
 "metadata": {
  "kernelspec": {
   "display_name": "Python 3 (ipykernel)",
   "language": "python",
   "name": "python3"
  },
  "language_info": {
   "codemirror_mode": {
    "name": "ipython",
    "version": 3
   },
   "file_extension": ".py",
   "mimetype": "text/x-python",
   "name": "python",
   "nbconvert_exporter": "python",
   "pygments_lexer": "ipython3",
   "version": "3.11.7"
  }
 },
 "nbformat": 4,
 "nbformat_minor": 5
}
