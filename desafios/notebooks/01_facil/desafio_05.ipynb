{
 "cells": [
  {
   "cell_type": "markdown",
   "id": "df9ae885-2ddf-4ded-9cb6-5546667ab2d6",
   "metadata": {},
   "source": [
    "## Desafio 05. Tamanhos das equipes dos gerentes\n"
   ]
  },
  {
   "cell_type": "markdown",
   "id": "405812c3-dba8-42d7-aa7a-c325b7edb2ac",
   "metadata": {},
   "source": [
    "### Bibliotecas"
   ]
  },
  {
   "cell_type": "code",
   "execution_count": 1,
   "id": "93937cc5-5097-47bd-8eab-9b06466133ee",
   "metadata": {},
   "outputs": [],
   "source": [
    "import pandas as pd\n",
    "\n",
    "# Módulo de conexão com banco\n",
    "import sys\n",
    "sys.path.append('../') \n",
    "import funcoesconexao as con\n",
    "\n",
    "# Desativa warnings\n",
    "import warnings\n",
    "warnings.filterwarnings('ignore')"
   ]
  },
  {
   "cell_type": "markdown",
   "id": "c9668463-0148-4b9a-bca7-e2f45078674d",
   "metadata": {},
   "source": [
    "### Carregamento dos Dados\n"
   ]
  },
  {
   "cell_type": "markdown",
   "id": "e028a32f-3b12-44a9-ae62-3fba83ccd1fe",
   "metadata": {},
   "source": [
    "#### Via banco de dados — SQL Server"
   ]
  },
  {
   "cell_type": "code",
   "execution_count": 2,
   "id": "f92d2360-5dc4-4db5-b64d-1b6af547fca1",
   "metadata": {},
   "outputs": [
    {
     "name": "stdout",
     "output_type": "stream",
     "text": [
      "----- Conexão com banco de dados estabelecida com sucesso! -----\n"
     ]
    }
   ],
   "source": [
    "conexao = con.conectar_bd()"
   ]
  },
  {
   "cell_type": "code",
   "execution_count": 3,
   "id": "024db73c-5a86-41a2-9a5e-81cca5c55a2f",
   "metadata": {},
   "outputs": [],
   "source": [
    "# Carregando dataframes\n",
    "df_gerentes             = con.carregar_dados(conexao, 'gerentes')\n",
    "df_funcionarios_equipes = con.carregar_dados(conexao, 'funcionarios_equipes')\n",
    "\n",
    "# Fechando conexão\n",
    "con.fechar_conexao_bd(conexao)"
   ]
  },
  {
   "cell_type": "code",
   "execution_count": 4,
   "id": "f00d954e-4c5d-4980-94fa-f2120df66871",
   "metadata": {},
   "outputs": [
    {
     "data": {
      "text/html": [
       "<div>\n",
       "<style scoped>\n",
       "    .dataframe tbody tr th:only-of-type {\n",
       "        vertical-align: middle;\n",
       "    }\n",
       "\n",
       "    .dataframe tbody tr th {\n",
       "        vertical-align: top;\n",
       "    }\n",
       "\n",
       "    .dataframe thead th {\n",
       "        text-align: right;\n",
       "    }\n",
       "</style>\n",
       "<table border=\"1\" class=\"dataframe\">\n",
       "  <thead>\n",
       "    <tr style=\"text-align: right;\">\n",
       "      <th></th>\n",
       "      <th>id</th>\n",
       "      <th>nome</th>\n",
       "      <th>equipe</th>\n",
       "    </tr>\n",
       "  </thead>\n",
       "  <tbody>\n",
       "    <tr>\n",
       "      <th>0</th>\n",
       "      <td>1</td>\n",
       "      <td>João Silva</td>\n",
       "      <td>Equipe A</td>\n",
       "    </tr>\n",
       "    <tr>\n",
       "      <th>1</th>\n",
       "      <td>2</td>\n",
       "      <td>Maria Oliveira</td>\n",
       "      <td>Equipe B</td>\n",
       "    </tr>\n",
       "    <tr>\n",
       "      <th>2</th>\n",
       "      <td>3</td>\n",
       "      <td>Carlos Santos</td>\n",
       "      <td>Equipe C</td>\n",
       "    </tr>\n",
       "    <tr>\n",
       "      <th>3</th>\n",
       "      <td>4</td>\n",
       "      <td>Ana Rodrigues</td>\n",
       "      <td>Equipe D</td>\n",
       "    </tr>\n",
       "    <tr>\n",
       "      <th>4</th>\n",
       "      <td>5</td>\n",
       "      <td>Pedro Sousa</td>\n",
       "      <td>Equipe E</td>\n",
       "    </tr>\n",
       "  </tbody>\n",
       "</table>\n",
       "</div>"
      ],
      "text/plain": [
       "   id            nome    equipe\n",
       "0   1      João Silva  Equipe A\n",
       "1   2  Maria Oliveira  Equipe B\n",
       "2   3   Carlos Santos  Equipe C\n",
       "3   4   Ana Rodrigues  Equipe D\n",
       "4   5     Pedro Sousa  Equipe E"
      ]
     },
     "metadata": {},
     "output_type": "display_data"
    },
    {
     "data": {
      "text/html": [
       "<div>\n",
       "<style scoped>\n",
       "    .dataframe tbody tr th:only-of-type {\n",
       "        vertical-align: middle;\n",
       "    }\n",
       "\n",
       "    .dataframe tbody tr th {\n",
       "        vertical-align: top;\n",
       "    }\n",
       "\n",
       "    .dataframe thead th {\n",
       "        text-align: right;\n",
       "    }\n",
       "</style>\n",
       "<table border=\"1\" class=\"dataframe\">\n",
       "  <thead>\n",
       "    <tr style=\"text-align: right;\">\n",
       "      <th></th>\n",
       "      <th>id</th>\n",
       "      <th>nome</th>\n",
       "      <th>gerente_id</th>\n",
       "    </tr>\n",
       "  </thead>\n",
       "  <tbody>\n",
       "    <tr>\n",
       "      <th>0</th>\n",
       "      <td>1</td>\n",
       "      <td>José Oliveira</td>\n",
       "      <td>1</td>\n",
       "    </tr>\n",
       "    <tr>\n",
       "      <th>1</th>\n",
       "      <td>2</td>\n",
       "      <td>Patrícia Santos</td>\n",
       "      <td>1</td>\n",
       "    </tr>\n",
       "    <tr>\n",
       "      <th>2</th>\n",
       "      <td>3</td>\n",
       "      <td>Fernando Martins</td>\n",
       "      <td>1</td>\n",
       "    </tr>\n",
       "    <tr>\n",
       "      <th>3</th>\n",
       "      <td>4</td>\n",
       "      <td>Camila Silva</td>\n",
       "      <td>1</td>\n",
       "    </tr>\n",
       "    <tr>\n",
       "      <th>4</th>\n",
       "      <td>5</td>\n",
       "      <td>Ricardo Pereira</td>\n",
       "      <td>2</td>\n",
       "    </tr>\n",
       "  </tbody>\n",
       "</table>\n",
       "</div>"
      ],
      "text/plain": [
       "   id              nome  gerente_id\n",
       "0   1     José Oliveira           1\n",
       "1   2   Patrícia Santos           1\n",
       "2   3  Fernando Martins           1\n",
       "3   4      Camila Silva           1\n",
       "4   5   Ricardo Pereira           2"
      ]
     },
     "metadata": {},
     "output_type": "display_data"
    }
   ],
   "source": [
    "# Exibindo dataframes\n",
    "display(df_gerentes.head())\n",
    "display(df_funcionarios_equipes.head())"
   ]
  },
  {
   "cell_type": "markdown",
   "id": "405be4a7-cb1f-4f0d-90c3-cdaf4d3e745c",
   "metadata": {},
   "source": [
    "#### Via arquivo .CSV"
   ]
  },
  {
   "cell_type": "code",
   "execution_count": 5,
   "id": "b6152375-64bc-4b02-81e6-3d2201900c6c",
   "metadata": {},
   "outputs": [],
   "source": [
    "# Carregando dataframes\n",
    "df_gerentes             = con.carregar_dados_csv('gerentes.csv')\n",
    "df_funcionarios_equipes = con.carregar_dados_csv('funcionarios_equipes.csv')"
   ]
  },
  {
   "cell_type": "code",
   "execution_count": 6,
   "id": "49b88ffd-5cc9-4ee3-a0de-87d593a3344a",
   "metadata": {},
   "outputs": [
    {
     "data": {
      "text/html": [
       "<div>\n",
       "<style scoped>\n",
       "    .dataframe tbody tr th:only-of-type {\n",
       "        vertical-align: middle;\n",
       "    }\n",
       "\n",
       "    .dataframe tbody tr th {\n",
       "        vertical-align: top;\n",
       "    }\n",
       "\n",
       "    .dataframe thead th {\n",
       "        text-align: right;\n",
       "    }\n",
       "</style>\n",
       "<table border=\"1\" class=\"dataframe\">\n",
       "  <thead>\n",
       "    <tr style=\"text-align: right;\">\n",
       "      <th></th>\n",
       "      <th>id</th>\n",
       "      <th>nome</th>\n",
       "      <th>equipe</th>\n",
       "    </tr>\n",
       "  </thead>\n",
       "  <tbody>\n",
       "    <tr>\n",
       "      <th>0</th>\n",
       "      <td>1</td>\n",
       "      <td>João Silva</td>\n",
       "      <td>Equipe A</td>\n",
       "    </tr>\n",
       "    <tr>\n",
       "      <th>1</th>\n",
       "      <td>2</td>\n",
       "      <td>Maria Oliveira</td>\n",
       "      <td>Equipe B</td>\n",
       "    </tr>\n",
       "    <tr>\n",
       "      <th>2</th>\n",
       "      <td>3</td>\n",
       "      <td>Carlos Santos</td>\n",
       "      <td>Equipe C</td>\n",
       "    </tr>\n",
       "    <tr>\n",
       "      <th>3</th>\n",
       "      <td>4</td>\n",
       "      <td>Ana Rodrigues</td>\n",
       "      <td>Equipe D</td>\n",
       "    </tr>\n",
       "    <tr>\n",
       "      <th>4</th>\n",
       "      <td>5</td>\n",
       "      <td>Pedro Sousa</td>\n",
       "      <td>Equipe E</td>\n",
       "    </tr>\n",
       "  </tbody>\n",
       "</table>\n",
       "</div>"
      ],
      "text/plain": [
       "   id            nome    equipe\n",
       "0   1      João Silva  Equipe A\n",
       "1   2  Maria Oliveira  Equipe B\n",
       "2   3   Carlos Santos  Equipe C\n",
       "3   4   Ana Rodrigues  Equipe D\n",
       "4   5     Pedro Sousa  Equipe E"
      ]
     },
     "metadata": {},
     "output_type": "display_data"
    },
    {
     "data": {
      "text/html": [
       "<div>\n",
       "<style scoped>\n",
       "    .dataframe tbody tr th:only-of-type {\n",
       "        vertical-align: middle;\n",
       "    }\n",
       "\n",
       "    .dataframe tbody tr th {\n",
       "        vertical-align: top;\n",
       "    }\n",
       "\n",
       "    .dataframe thead th {\n",
       "        text-align: right;\n",
       "    }\n",
       "</style>\n",
       "<table border=\"1\" class=\"dataframe\">\n",
       "  <thead>\n",
       "    <tr style=\"text-align: right;\">\n",
       "      <th></th>\n",
       "      <th>id</th>\n",
       "      <th>nome</th>\n",
       "      <th>gerente_id</th>\n",
       "    </tr>\n",
       "  </thead>\n",
       "  <tbody>\n",
       "    <tr>\n",
       "      <th>0</th>\n",
       "      <td>1</td>\n",
       "      <td>José Oliveira</td>\n",
       "      <td>1</td>\n",
       "    </tr>\n",
       "    <tr>\n",
       "      <th>1</th>\n",
       "      <td>2</td>\n",
       "      <td>Patrícia Santos</td>\n",
       "      <td>1</td>\n",
       "    </tr>\n",
       "    <tr>\n",
       "      <th>2</th>\n",
       "      <td>3</td>\n",
       "      <td>Fernando Martins</td>\n",
       "      <td>1</td>\n",
       "    </tr>\n",
       "    <tr>\n",
       "      <th>3</th>\n",
       "      <td>4</td>\n",
       "      <td>Camila Silva</td>\n",
       "      <td>1</td>\n",
       "    </tr>\n",
       "    <tr>\n",
       "      <th>4</th>\n",
       "      <td>5</td>\n",
       "      <td>Ricardo Pereira</td>\n",
       "      <td>2</td>\n",
       "    </tr>\n",
       "  </tbody>\n",
       "</table>\n",
       "</div>"
      ],
      "text/plain": [
       "   id              nome  gerente_id\n",
       "0   1     José Oliveira           1\n",
       "1   2   Patrícia Santos           1\n",
       "2   3  Fernando Martins           1\n",
       "3   4      Camila Silva           1\n",
       "4   5   Ricardo Pereira           2"
      ]
     },
     "metadata": {},
     "output_type": "display_data"
    }
   ],
   "source": [
    "# Exibindo dataframes\n",
    "display(df_gerentes.head())\n",
    "display(df_funcionarios_equipes.head())"
   ]
  },
  {
   "cell_type": "markdown",
   "id": "c51495af-5e40-4e6c-a995-aa6ac9b00b07",
   "metadata": {},
   "source": [
    "### Solução"
   ]
  },
  {
   "cell_type": "code",
   "execution_count": 7,
   "id": "aafa3bf7-8ddf-4f67-8616-96d1cbc28817",
   "metadata": {},
   "outputs": [],
   "source": [
    "def maior_equipe(funcionarios_equipes: pd.DataFrame, gerentes: pd.DataFrame):\n",
    "    # Mesclando dataframes\n",
    "    df_merge = pd.merge(funcionarios_equipes, gerentes, left_on='gerente_id', right_on='id', how='inner', suffixes=('', '_gerente'))\n",
    "    \n",
    "    # Agrupando equipes por gerente e calculando tamanho da equipe\n",
    "    df_agrupado = df_merge.groupby('nome_gerente').agg(tamanho_equipe=('id', 'count'))\n",
    "    \n",
    "    # Ordenando dataframe pelo tamanho da equipe\n",
    "    df_agrupado = df_agrupado.sort_values(by='tamanho_equipe', ascending=False).reset_index()\n",
    "    \n",
    "    # Selecionando gerente com maior equipe\n",
    "    gerente_maior_equipe = df_agrupado.head(1)\n",
    "    \n",
    "    # Saída\n",
    "    return gerente_maior_equipe"
   ]
  },
  {
   "cell_type": "code",
   "execution_count": 8,
   "id": "4e719037-2f99-4061-bacd-12771253c333",
   "metadata": {},
   "outputs": [
    {
     "data": {
      "text/html": [
       "<div>\n",
       "<style scoped>\n",
       "    .dataframe tbody tr th:only-of-type {\n",
       "        vertical-align: middle;\n",
       "    }\n",
       "\n",
       "    .dataframe tbody tr th {\n",
       "        vertical-align: top;\n",
       "    }\n",
       "\n",
       "    .dataframe thead th {\n",
       "        text-align: right;\n",
       "    }\n",
       "</style>\n",
       "<table border=\"1\" class=\"dataframe\">\n",
       "  <thead>\n",
       "    <tr style=\"text-align: right;\">\n",
       "      <th></th>\n",
       "      <th>nome_gerente</th>\n",
       "      <th>tamanho_equipe</th>\n",
       "    </tr>\n",
       "  </thead>\n",
       "  <tbody>\n",
       "    <tr>\n",
       "      <th>0</th>\n",
       "      <td>Ana Rodrigues</td>\n",
       "      <td>5</td>\n",
       "    </tr>\n",
       "  </tbody>\n",
       "</table>\n",
       "</div>"
      ],
      "text/plain": [
       "    nome_gerente  tamanho_equipe\n",
       "0  Ana Rodrigues               5"
      ]
     },
     "execution_count": 8,
     "metadata": {},
     "output_type": "execute_result"
    }
   ],
   "source": [
    "maior_equipe(df_funcionarios_equipes, df_gerentes)"
   ]
  }
 ],
 "metadata": {
  "kernelspec": {
   "display_name": "Python 3 (ipykernel)",
   "language": "python",
   "name": "python3"
  },
  "language_info": {
   "codemirror_mode": {
    "name": "ipython",
    "version": 3
   },
   "file_extension": ".py",
   "mimetype": "text/x-python",
   "name": "python",
   "nbconvert_exporter": "python",
   "pygments_lexer": "ipython3",
   "version": "3.11.7"
  }
 },
 "nbformat": 4,
 "nbformat_minor": 5
}
