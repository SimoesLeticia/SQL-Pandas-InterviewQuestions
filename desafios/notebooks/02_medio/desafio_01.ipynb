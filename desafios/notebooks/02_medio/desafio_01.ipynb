{
 "cells": [
  {
   "cell_type": "markdown",
   "id": "1e9d2fbd-b7d8-4d59-9b9e-b02eae4d24ac",
   "metadata": {},
   "source": [
    "## Desafio 01. Histograma de comentários"
   ]
  },
  {
   "cell_type": "markdown",
   "id": "3dd093ed-3572-45f1-9980-c5564d19f7f7",
   "metadata": {},
   "source": [
    "### Bibliotecas"
   ]
  },
  {
   "cell_type": "code",
   "execution_count": 1,
   "id": "f24a2b02-9319-4505-848f-f540f2b97b4b",
   "metadata": {},
   "outputs": [],
   "source": [
    "import pandas as pd\n",
    "\n",
    "# Módulo de conexão com banco\n",
    "import sys\n",
    "sys.path.append('../') \n",
    "import funcoesconexao as con\n",
    "\n",
    "# Desativa warnings\n",
    "import warnings\n",
    "warnings.filterwarnings('ignore')"
   ]
  },
  {
   "cell_type": "markdown",
   "id": "d04f94f8-47ea-4313-855a-e86e8a49cd6d",
   "metadata": {},
   "source": [
    "### Carregamento dos Dados"
   ]
  },
  {
   "cell_type": "markdown",
   "id": "325d335b-45d7-4316-ad0e-b90bd0ee60bc",
   "metadata": {},
   "source": [
    "#### Via banco de dados — SQL Server"
   ]
  },
  {
   "cell_type": "code",
   "execution_count": 2,
   "id": "ecff57f6-05ea-4db7-8b8a-6d5b0e5ede24",
   "metadata": {},
   "outputs": [
    {
     "name": "stdout",
     "output_type": "stream",
     "text": [
      "----- Conexão com banco de dados estabelecida com sucesso! -----\n"
     ]
    }
   ],
   "source": [
    "conexao = con.conectar_bd()"
   ]
  },
  {
   "cell_type": "code",
   "execution_count": 3,
   "id": "5ae9f69b-1191-49f5-8a0f-be4926c45afc",
   "metadata": {},
   "outputs": [],
   "source": [
    "# Carregando dataframes\n",
    "df_usuarios    = con.carregar_dados(conexao, 'usuarios')\n",
    "df_comentarios = con.carregar_dados(conexao, 'comentarios')\n",
    "\n",
    "# Fechando conexão\n",
    "con.fechar_conexao_bd(conexao)"
   ]
  },
  {
   "cell_type": "code",
   "execution_count": 4,
   "id": "b9fcd43d-c152-4dd9-824c-b0f5b3c4d7f1",
   "metadata": {},
   "outputs": [
    {
     "data": {
      "text/html": [
       "<div>\n",
       "<style scoped>\n",
       "    .dataframe tbody tr th:only-of-type {\n",
       "        vertical-align: middle;\n",
       "    }\n",
       "\n",
       "    .dataframe tbody tr th {\n",
       "        vertical-align: top;\n",
       "    }\n",
       "\n",
       "    .dataframe thead th {\n",
       "        text-align: right;\n",
       "    }\n",
       "</style>\n",
       "<table border=\"1\" class=\"dataframe\">\n",
       "  <thead>\n",
       "    <tr style=\"text-align: right;\">\n",
       "      <th></th>\n",
       "      <th>id</th>\n",
       "      <th>nome</th>\n",
       "      <th>data_criacao</th>\n",
       "      <th>localizacao_id</th>\n",
       "      <th>email</th>\n",
       "    </tr>\n",
       "  </thead>\n",
       "  <tbody>\n",
       "    <tr>\n",
       "      <th>0</th>\n",
       "      <td>1</td>\n",
       "      <td>João Silva</td>\n",
       "      <td>2019-10-15</td>\n",
       "      <td>1</td>\n",
       "      <td>joao.silva@empresa.com</td>\n",
       "    </tr>\n",
       "    <tr>\n",
       "      <th>1</th>\n",
       "      <td>2</td>\n",
       "      <td>Maria Souza</td>\n",
       "      <td>2019-10-15</td>\n",
       "      <td>2</td>\n",
       "      <td>maria.souza@empresa.com</td>\n",
       "    </tr>\n",
       "    <tr>\n",
       "      <th>2</th>\n",
       "      <td>3</td>\n",
       "      <td>Carlos Oliveira</td>\n",
       "      <td>2019-10-15</td>\n",
       "      <td>3</td>\n",
       "      <td>carlos.oliveira@empresa.com</td>\n",
       "    </tr>\n",
       "    <tr>\n",
       "      <th>3</th>\n",
       "      <td>4</td>\n",
       "      <td>Ana Pereira</td>\n",
       "      <td>2019-10-15</td>\n",
       "      <td>1</td>\n",
       "      <td>ana.pereira@empresa.com</td>\n",
       "    </tr>\n",
       "    <tr>\n",
       "      <th>4</th>\n",
       "      <td>5</td>\n",
       "      <td>Pedro Costa</td>\n",
       "      <td>2019-10-15</td>\n",
       "      <td>2</td>\n",
       "      <td>pedro.costa@empresa.com</td>\n",
       "    </tr>\n",
       "  </tbody>\n",
       "</table>\n",
       "</div>"
      ],
      "text/plain": [
       "   id             nome data_criacao  localizacao_id  \\\n",
       "0   1       João Silva   2019-10-15               1   \n",
       "1   2      Maria Souza   2019-10-15               2   \n",
       "2   3  Carlos Oliveira   2019-10-15               3   \n",
       "3   4      Ana Pereira   2019-10-15               1   \n",
       "4   5      Pedro Costa   2019-10-15               2   \n",
       "\n",
       "                         email  \n",
       "0       joao.silva@empresa.com  \n",
       "1      maria.souza@empresa.com  \n",
       "2  carlos.oliveira@empresa.com  \n",
       "3      ana.pereira@empresa.com  \n",
       "4      pedro.costa@empresa.com  "
      ]
     },
     "metadata": {},
     "output_type": "display_data"
    },
    {
     "data": {
      "text/html": [
       "<div>\n",
       "<style scoped>\n",
       "    .dataframe tbody tr th:only-of-type {\n",
       "        vertical-align: middle;\n",
       "    }\n",
       "\n",
       "    .dataframe tbody tr th {\n",
       "        vertical-align: top;\n",
       "    }\n",
       "\n",
       "    .dataframe thead th {\n",
       "        text-align: right;\n",
       "    }\n",
       "</style>\n",
       "<table border=\"1\" class=\"dataframe\">\n",
       "  <thead>\n",
       "    <tr style=\"text-align: right;\">\n",
       "      <th></th>\n",
       "      <th>usuario_id</th>\n",
       "      <th>corpo</th>\n",
       "      <th>data_criacao</th>\n",
       "    </tr>\n",
       "  </thead>\n",
       "  <tbody>\n",
       "    <tr>\n",
       "      <th>0</th>\n",
       "      <td>3</td>\n",
       "      <td>Pensando mais a longo prazo, o fenômeno da Int...</td>\n",
       "      <td>2019-12-02</td>\n",
       "    </tr>\n",
       "    <tr>\n",
       "      <th>1</th>\n",
       "      <td>5</td>\n",
       "      <td>Do mesmo modo, a hegemonia do ambiente polític...</td>\n",
       "      <td>2019-12-03</td>\n",
       "    </tr>\n",
       "    <tr>\n",
       "      <th>2</th>\n",
       "      <td>3</td>\n",
       "      <td>É claro que a complexidade dos estudos efetuad...</td>\n",
       "      <td>2019-12-05</td>\n",
       "    </tr>\n",
       "    <tr>\n",
       "      <th>3</th>\n",
       "      <td>5</td>\n",
       "      <td>Todas estas questões, devidamente ponderadas, ...</td>\n",
       "      <td>2019-12-05</td>\n",
       "    </tr>\n",
       "    <tr>\n",
       "      <th>4</th>\n",
       "      <td>2</td>\n",
       "      <td>Percebemos, cada vez mais, que o acompanhament...</td>\n",
       "      <td>2019-12-08</td>\n",
       "    </tr>\n",
       "  </tbody>\n",
       "</table>\n",
       "</div>"
      ],
      "text/plain": [
       "   usuario_id                                              corpo data_criacao\n",
       "0           3  Pensando mais a longo prazo, o fenômeno da Int...   2019-12-02\n",
       "1           5  Do mesmo modo, a hegemonia do ambiente polític...   2019-12-03\n",
       "2           3  É claro que a complexidade dos estudos efetuad...   2019-12-05\n",
       "3           5  Todas estas questões, devidamente ponderadas, ...   2019-12-05\n",
       "4           2  Percebemos, cada vez mais, que o acompanhament...   2019-12-08"
      ]
     },
     "metadata": {},
     "output_type": "display_data"
    }
   ],
   "source": [
    "# Exibindo dataframes\n",
    "display(df_usuarios.head())\n",
    "display(df_comentarios.head())"
   ]
  },
  {
   "cell_type": "markdown",
   "id": "1d4df46c-3425-4642-a0c7-384e52766523",
   "metadata": {},
   "source": [
    "#### Via arquivo .CSV"
   ]
  },
  {
   "cell_type": "code",
   "execution_count": 5,
   "id": "42b0788f-2bdf-48e4-816a-4d631129536b",
   "metadata": {},
   "outputs": [],
   "source": [
    "# Carregando dataframes\n",
    "df_usuarios    = con.carregar_dados_csv('usuarios.csv')\n",
    "df_comentarios = con.carregar_dados_csv('comentarios.csv')"
   ]
  },
  {
   "cell_type": "code",
   "execution_count": 6,
   "id": "bbd3b5f1-2f0e-4ae1-bba0-3012547e375d",
   "metadata": {},
   "outputs": [
    {
     "data": {
      "text/html": [
       "<div>\n",
       "<style scoped>\n",
       "    .dataframe tbody tr th:only-of-type {\n",
       "        vertical-align: middle;\n",
       "    }\n",
       "\n",
       "    .dataframe tbody tr th {\n",
       "        vertical-align: top;\n",
       "    }\n",
       "\n",
       "    .dataframe thead th {\n",
       "        text-align: right;\n",
       "    }\n",
       "</style>\n",
       "<table border=\"1\" class=\"dataframe\">\n",
       "  <thead>\n",
       "    <tr style=\"text-align: right;\">\n",
       "      <th></th>\n",
       "      <th>id</th>\n",
       "      <th>nome</th>\n",
       "      <th>data_criacao</th>\n",
       "      <th>localizacao_id</th>\n",
       "      <th>email</th>\n",
       "    </tr>\n",
       "  </thead>\n",
       "  <tbody>\n",
       "    <tr>\n",
       "      <th>0</th>\n",
       "      <td>1</td>\n",
       "      <td>João Silva</td>\n",
       "      <td>2019-10-15 00:00:00.000</td>\n",
       "      <td>1</td>\n",
       "      <td>joao.silva@empresa.com</td>\n",
       "    </tr>\n",
       "    <tr>\n",
       "      <th>1</th>\n",
       "      <td>2</td>\n",
       "      <td>Maria Souza</td>\n",
       "      <td>2019-10-15 00:00:00.000</td>\n",
       "      <td>2</td>\n",
       "      <td>maria.souza@empresa.com</td>\n",
       "    </tr>\n",
       "    <tr>\n",
       "      <th>2</th>\n",
       "      <td>3</td>\n",
       "      <td>Carlos Oliveira</td>\n",
       "      <td>2019-10-15 00:00:00.000</td>\n",
       "      <td>3</td>\n",
       "      <td>carlos.oliveira@empresa.com</td>\n",
       "    </tr>\n",
       "    <tr>\n",
       "      <th>3</th>\n",
       "      <td>4</td>\n",
       "      <td>Ana Pereira</td>\n",
       "      <td>2019-10-15 00:00:00.000</td>\n",
       "      <td>1</td>\n",
       "      <td>ana.pereira@empresa.com</td>\n",
       "    </tr>\n",
       "    <tr>\n",
       "      <th>4</th>\n",
       "      <td>5</td>\n",
       "      <td>Pedro Costa</td>\n",
       "      <td>2019-10-15 00:00:00.000</td>\n",
       "      <td>2</td>\n",
       "      <td>pedro.costa@empresa.com</td>\n",
       "    </tr>\n",
       "  </tbody>\n",
       "</table>\n",
       "</div>"
      ],
      "text/plain": [
       "   id             nome             data_criacao  localizacao_id  \\\n",
       "0   1       João Silva  2019-10-15 00:00:00.000               1   \n",
       "1   2      Maria Souza  2019-10-15 00:00:00.000               2   \n",
       "2   3  Carlos Oliveira  2019-10-15 00:00:00.000               3   \n",
       "3   4      Ana Pereira  2019-10-15 00:00:00.000               1   \n",
       "4   5      Pedro Costa  2019-10-15 00:00:00.000               2   \n",
       "\n",
       "                         email  \n",
       "0       joao.silva@empresa.com  \n",
       "1      maria.souza@empresa.com  \n",
       "2  carlos.oliveira@empresa.com  \n",
       "3      ana.pereira@empresa.com  \n",
       "4      pedro.costa@empresa.com  "
      ]
     },
     "metadata": {},
     "output_type": "display_data"
    },
    {
     "data": {
      "text/html": [
       "<div>\n",
       "<style scoped>\n",
       "    .dataframe tbody tr th:only-of-type {\n",
       "        vertical-align: middle;\n",
       "    }\n",
       "\n",
       "    .dataframe tbody tr th {\n",
       "        vertical-align: top;\n",
       "    }\n",
       "\n",
       "    .dataframe thead th {\n",
       "        text-align: right;\n",
       "    }\n",
       "</style>\n",
       "<table border=\"1\" class=\"dataframe\">\n",
       "  <thead>\n",
       "    <tr style=\"text-align: right;\">\n",
       "      <th></th>\n",
       "      <th>usuario_id</th>\n",
       "      <th>corpo</th>\n",
       "      <th>data_criacao</th>\n",
       "    </tr>\n",
       "  </thead>\n",
       "  <tbody>\n",
       "    <tr>\n",
       "      <th>0</th>\n",
       "      <td>3</td>\n",
       "      <td>Pensando mais a longo prazo, o fenômeno da Int...</td>\n",
       "      <td>2019-12-02 00:00:00.000</td>\n",
       "    </tr>\n",
       "    <tr>\n",
       "      <th>1</th>\n",
       "      <td>5</td>\n",
       "      <td>Do mesmo modo, a hegemonia do ambiente polític...</td>\n",
       "      <td>2019-12-03 00:00:00.000</td>\n",
       "    </tr>\n",
       "    <tr>\n",
       "      <th>2</th>\n",
       "      <td>3</td>\n",
       "      <td>É claro que a complexidade dos estudos efetuad...</td>\n",
       "      <td>2019-12-05 00:00:00.000</td>\n",
       "    </tr>\n",
       "    <tr>\n",
       "      <th>3</th>\n",
       "      <td>5</td>\n",
       "      <td>Todas estas questões, devidamente ponderadas, ...</td>\n",
       "      <td>2019-12-05 00:00:00.000</td>\n",
       "    </tr>\n",
       "    <tr>\n",
       "      <th>4</th>\n",
       "      <td>2</td>\n",
       "      <td>Percebemos, cada vez mais, que o acompanhament...</td>\n",
       "      <td>2019-12-08 00:00:00.000</td>\n",
       "    </tr>\n",
       "  </tbody>\n",
       "</table>\n",
       "</div>"
      ],
      "text/plain": [
       "   usuario_id                                              corpo  \\\n",
       "0           3  Pensando mais a longo prazo, o fenômeno da Int...   \n",
       "1           5  Do mesmo modo, a hegemonia do ambiente polític...   \n",
       "2           3  É claro que a complexidade dos estudos efetuad...   \n",
       "3           5  Todas estas questões, devidamente ponderadas, ...   \n",
       "4           2  Percebemos, cada vez mais, que o acompanhament...   \n",
       "\n",
       "              data_criacao  \n",
       "0  2019-12-02 00:00:00.000  \n",
       "1  2019-12-03 00:00:00.000  \n",
       "2  2019-12-05 00:00:00.000  \n",
       "3  2019-12-05 00:00:00.000  \n",
       "4  2019-12-08 00:00:00.000  "
      ]
     },
     "metadata": {},
     "output_type": "display_data"
    }
   ],
   "source": [
    "# Exibindo dataframes\n",
    "display(df_usuarios.head())\n",
    "display(df_comentarios.head())"
   ]
  },
  {
   "cell_type": "markdown",
   "id": "d74bb983-ca0e-4158-8a2c-361c09393445",
   "metadata": {},
   "source": [
    "### Solução"
   ]
  },
  {
   "cell_type": "code",
   "execution_count": 7,
   "id": "79a7e6b7-a59c-4c5c-b118-c5da5078c6c8",
   "metadata": {},
   "outputs": [],
   "source": [
    "def histograma_comentarios(comentarios: pd.DataFrame, usuarios: pd.DataFrame):\n",
    "    # Convertendo data_criacao para o tipo DateTime\n",
    "    comentarios['data_criacao'] = pd.to_datetime(comentarios['data_criacao'])\n",
    "    \n",
    "    # Filtrando apenas comentários de Janeiro/2020\n",
    "    comentarios_janeiro = comentarios[\n",
    "        (comentarios['data_criacao'].dt.year == 2020) & \n",
    "        (comentarios['data_criacao'].dt.month == 1)\n",
    "    ]\n",
    "\n",
    "    # Agrupando comentários e calculando a quantidade de comentários por usuário\n",
    "    comentarios_agrupado = (\n",
    "        comentarios_janeiro.groupby('usuario_id')\n",
    "        .agg(quantidade_comentarios=('usuario_id', 'count'))\n",
    "        .reset_index()\n",
    "    )\n",
    "\n",
    "    # Mesclando dataframes\n",
    "    df_merge = usuarios[['id']].merge(\n",
    "        comentarios_agrupado, how='left', left_on='id', right_on='usuario_id'\n",
    "    )\n",
    "\n",
    "    # Substituindo valores nulos por zero\n",
    "    df_merge['quantidade_comentarios'].fillna(0, inplace=True)\n",
    "\n",
    "    # Convertendo quantidade_comentarios para o tipo inteiro\n",
    "    df_merge['quantidade_comentarios'] = df_merge['quantidade_comentarios'].astype(int)\n",
    "\n",
    "    # Criando histograma\n",
    "    histograma = df_merge['quantidade_comentarios'].value_counts().reset_index()\n",
    "    \n",
    "    # Renomeando as colunas\n",
    "    histograma.columns = ['quantidade_comentarios', 'frequencia']\n",
    "    \n",
    "    # Ordenando dataframe\n",
    "    histograma.sort_values(by='quantidade_comentarios', inplace=True)\n",
    "    \n",
    "    # Saída\n",
    "    return histograma"
   ]
  },
  {
   "cell_type": "code",
   "execution_count": 8,
   "id": "3ca35c92-c71a-4d0c-881e-c25491856d44",
   "metadata": {},
   "outputs": [
    {
     "data": {
      "text/html": [
       "<div>\n",
       "<style scoped>\n",
       "    .dataframe tbody tr th:only-of-type {\n",
       "        vertical-align: middle;\n",
       "    }\n",
       "\n",
       "    .dataframe tbody tr th {\n",
       "        vertical-align: top;\n",
       "    }\n",
       "\n",
       "    .dataframe thead th {\n",
       "        text-align: right;\n",
       "    }\n",
       "</style>\n",
       "<table border=\"1\" class=\"dataframe\">\n",
       "  <thead>\n",
       "    <tr style=\"text-align: right;\">\n",
       "      <th></th>\n",
       "      <th>quantidade_comentarios</th>\n",
       "      <th>frequencia</th>\n",
       "    </tr>\n",
       "  </thead>\n",
       "  <tbody>\n",
       "    <tr>\n",
       "      <th>0</th>\n",
       "      <td>0</td>\n",
       "      <td>11</td>\n",
       "    </tr>\n",
       "    <tr>\n",
       "      <th>1</th>\n",
       "      <td>2</td>\n",
       "      <td>2</td>\n",
       "    </tr>\n",
       "    <tr>\n",
       "      <th>2</th>\n",
       "      <td>3</td>\n",
       "      <td>1</td>\n",
       "    </tr>\n",
       "    <tr>\n",
       "      <th>3</th>\n",
       "      <td>5</td>\n",
       "      <td>1</td>\n",
       "    </tr>\n",
       "  </tbody>\n",
       "</table>\n",
       "</div>"
      ],
      "text/plain": [
       "   quantidade_comentarios  frequencia\n",
       "0                       0          11\n",
       "1                       2           2\n",
       "2                       3           1\n",
       "3                       5           1"
      ]
     },
     "metadata": {},
     "output_type": "display_data"
    }
   ],
   "source": [
    "histograma = histograma_comentarios(df_comentarios, df_usuarios)\n",
    "display(histograma)"
   ]
  },
  {
   "cell_type": "markdown",
   "id": "c63b8528-dfc0-4153-b1dc-26b3db027b58",
   "metadata": {},
   "source": [
    "#### Gráfico"
   ]
  },
  {
   "cell_type": "code",
   "execution_count": 9,
   "id": "3ffd0f09-efd8-4562-b220-e9fd8d9515a6",
   "metadata": {},
   "outputs": [],
   "source": [
    "import matplotlib.pyplot as plt\n",
    "\n",
    "def plot_histograma_comentarios(histograma: pd.DataFrame, x_col: str, y_col: str):\n",
    "    # Configurar o tamanho da imagem\n",
    "    plt.figure(figsize=(10, 6))\n",
    "    \n",
    "    # Extrair dados\n",
    "    x = histograma[x_col]\n",
    "    y = histograma[y_col]\n",
    "    \n",
    "    # Plotar o gráfico\n",
    "    plt.bar(x, y, width=0.8, color='DodgerBlue')\n",
    "    \n",
    "    # Adicionar títulos e rótulos\n",
    "    plt.title('Histograma de Comentários - Janeiro de 2020')\n",
    "    plt.xlabel('Quantidade de Comentários')\n",
    "    plt.ylabel('Frequência')\n",
    "    \n",
    "    # Adicionar rótulos nas barras\n",
    "    for I in range(len(x)):\n",
    "        plt.text(x[I], y[I], str(y[I]), ha='center', va='bottom')\n",
    "    \n",
    "    # Ajustar os ticks e adicionar grid no eixo y\n",
    "    plt.xticks(range(int(x.max()) + 1)) \n",
    "    plt.yticks(range(int(y.max()) + 2))\n",
    "    plt.grid(axis='y', linestyle='--', alpha=0.5)\n",
    "\n",
    "    # Exibindo plot\n",
    "    plt.show()"
   ]
  },
  {
   "cell_type": "code",
   "execution_count": 10,
   "id": "740eb728-8c54-41d0-a5db-74d4d0acb349",
   "metadata": {},
   "outputs": [
    {
     "data": {
      "image/png": "[encoded data removed]",
      "text/plain": [
       "<Figure size 1000x600 with 1 Axes>"
      ]
     },
     "metadata": {},
     "output_type": "display_data"
    }
   ],
   "source": [
    "plot_histograma_comentarios(histograma, 'quantidade_comentarios', 'frequencia')"
   ]
  }
 ],
 "metadata": {
  "kernelspec": {
   "display_name": "Python 3 (ipykernel)",
   "language": "python",
   "name": "python3"
  },
  "language_info": {
   "codemirror_mode": {
    "name": "ipython",
    "version": 3
   },
   "file_extension": ".py",
   "mimetype": "text/x-python",
   "name": "python",
   "nbconvert_exporter": "python",
   "pygments_lexer": "ipython3",
   "version": "3.11.7"
  }
 },
 "nbformat": 4,
 "nbformat_minor": 5
}
