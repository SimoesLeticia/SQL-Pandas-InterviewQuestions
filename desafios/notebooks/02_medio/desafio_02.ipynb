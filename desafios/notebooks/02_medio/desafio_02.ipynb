{
 "cells": [
  {
   "cell_type": "markdown",
   "id": "1e9d2fbd-b7d8-4d59-9b9e-b02eae4d24ac",
   "metadata": {},
   "source": [
    "## Desafio 02. Salários dos funcionários"
   ]
  },
  {
   "cell_type": "markdown",
   "id": "3dd093ed-3572-45f1-9980-c5564d19f7f7",
   "metadata": {},
   "source": [
    "### Bibliotecas"
   ]
  },
  {
   "cell_type": "code",
   "execution_count": 1,
   "id": "f24a2b02-9319-4505-848f-f540f2b97b4b",
   "metadata": {},
   "outputs": [],
   "source": [
    "import pandas as pd\n",
    "\n",
    "# Módulo de conexão com banco\n",
    "import sys\n",
    "sys.path.append('../') \n",
    "import funcoesconexao as con\n",
    "\n",
    "# Desativa warnings\n",
    "import warnings\n",
    "warnings.filterwarnings('ignore')"
   ]
  },
  {
   "cell_type": "markdown",
   "id": "d04f94f8-47ea-4313-855a-e86e8a49cd6d",
   "metadata": {},
   "source": [
    "### Carregamento dos Dados"
   ]
  },
  {
   "cell_type": "markdown",
   "id": "325d335b-45d7-4316-ad0e-b90bd0ee60bc",
   "metadata": {},
   "source": [
    "#### Via banco de dados — SQL Server"
   ]
  },
  {
   "cell_type": "code",
   "execution_count": 2,
   "id": "ecff57f6-05ea-4db7-8b8a-6d5b0e5ede24",
   "metadata": {},
   "outputs": [
    {
     "name": "stdout",
     "output_type": "stream",
     "text": [
      "----- Conexão com banco de dados estabelecida com sucesso! -----\n"
     ]
    }
   ],
   "source": [
    "conexao = con.conectar_bd()"
   ]
  },
  {
   "cell_type": "code",
   "execution_count": 3,
   "id": "5ae9f69b-1191-49f5-8a0f-be4926c45afc",
   "metadata": {},
   "outputs": [],
   "source": [
    "# Carregando dataframes\n",
    "df_departamentos = con.carregar_dados(conexao, 'departamentos')\n",
    "df_funcionarios  = con.carregar_dados(conexao, 'funcionarios')\n",
    "\n",
    "# Fechando conexão\n",
    "con.fechar_conexao_bd(conexao)"
   ]
  },
  {
   "cell_type": "code",
   "execution_count": 4,
   "id": "b9fcd43d-c152-4dd9-824c-b0f5b3c4d7f1",
   "metadata": {},
   "outputs": [
    {
     "data": {
      "text/html": [
       "<div>\n",
       "<style scoped>\n",
       "    .dataframe tbody tr th:only-of-type {\n",
       "        vertical-align: middle;\n",
       "    }\n",
       "\n",
       "    .dataframe tbody tr th {\n",
       "        vertical-align: top;\n",
       "    }\n",
       "\n",
       "    .dataframe thead th {\n",
       "        text-align: right;\n",
       "    }\n",
       "</style>\n",
       "<table border=\"1\" class=\"dataframe\">\n",
       "  <thead>\n",
       "    <tr style=\"text-align: right;\">\n",
       "      <th></th>\n",
       "      <th>id</th>\n",
       "      <th>nome</th>\n",
       "    </tr>\n",
       "  </thead>\n",
       "  <tbody>\n",
       "    <tr>\n",
       "      <th>0</th>\n",
       "      <td>1</td>\n",
       "      <td>Recursos Humanos</td>\n",
       "    </tr>\n",
       "    <tr>\n",
       "      <th>1</th>\n",
       "      <td>2</td>\n",
       "      <td>Marketing</td>\n",
       "    </tr>\n",
       "    <tr>\n",
       "      <th>2</th>\n",
       "      <td>3</td>\n",
       "      <td>Engenharia</td>\n",
       "    </tr>\n",
       "    <tr>\n",
       "      <th>3</th>\n",
       "      <td>4</td>\n",
       "      <td>Vendas</td>\n",
       "    </tr>\n",
       "    <tr>\n",
       "      <th>4</th>\n",
       "      <td>5</td>\n",
       "      <td>Financeiro</td>\n",
       "    </tr>\n",
       "  </tbody>\n",
       "</table>\n",
       "</div>"
      ],
      "text/plain": [
       "   id              nome\n",
       "0   1  Recursos Humanos\n",
       "1   2         Marketing\n",
       "2   3        Engenharia\n",
       "3   4            Vendas\n",
       "4   5        Financeiro"
      ]
     },
     "metadata": {},
     "output_type": "display_data"
    },
    {
     "data": {
      "text/html": [
       "<div>\n",
       "<style scoped>\n",
       "    .dataframe tbody tr th:only-of-type {\n",
       "        vertical-align: middle;\n",
       "    }\n",
       "\n",
       "    .dataframe tbody tr th {\n",
       "        vertical-align: top;\n",
       "    }\n",
       "\n",
       "    .dataframe thead th {\n",
       "        text-align: right;\n",
       "    }\n",
       "</style>\n",
       "<table border=\"1\" class=\"dataframe\">\n",
       "  <thead>\n",
       "    <tr style=\"text-align: right;\">\n",
       "      <th></th>\n",
       "      <th>id</th>\n",
       "      <th>nome</th>\n",
       "      <th>sobrenome</th>\n",
       "      <th>salario</th>\n",
       "      <th>departamento_id</th>\n",
       "    </tr>\n",
       "  </thead>\n",
       "  <tbody>\n",
       "    <tr>\n",
       "      <th>0</th>\n",
       "      <td>1</td>\n",
       "      <td>João</td>\n",
       "      <td>Silva</td>\n",
       "      <td>3000</td>\n",
       "      <td>1</td>\n",
       "    </tr>\n",
       "    <tr>\n",
       "      <th>1</th>\n",
       "      <td>2</td>\n",
       "      <td>Maria</td>\n",
       "      <td>Souza</td>\n",
       "      <td>4000</td>\n",
       "      <td>2</td>\n",
       "    </tr>\n",
       "    <tr>\n",
       "      <th>2</th>\n",
       "      <td>3</td>\n",
       "      <td>Carlos</td>\n",
       "      <td>Oliveira</td>\n",
       "      <td>6500</td>\n",
       "      <td>3</td>\n",
       "    </tr>\n",
       "    <tr>\n",
       "      <th>3</th>\n",
       "      <td>4</td>\n",
       "      <td>Ana</td>\n",
       "      <td>Pereira</td>\n",
       "      <td>3200</td>\n",
       "      <td>1</td>\n",
       "    </tr>\n",
       "    <tr>\n",
       "      <th>4</th>\n",
       "      <td>5</td>\n",
       "      <td>Pedro</td>\n",
       "      <td>Costa</td>\n",
       "      <td>3900</td>\n",
       "      <td>2</td>\n",
       "    </tr>\n",
       "  </tbody>\n",
       "</table>\n",
       "</div>"
      ],
      "text/plain": [
       "   id    nome sobrenome  salario  departamento_id\n",
       "0   1    João     Silva     3000                1\n",
       "1   2   Maria     Souza     4000                2\n",
       "2   3  Carlos  Oliveira     6500                3\n",
       "3   4     Ana   Pereira     3200                1\n",
       "4   5   Pedro     Costa     3900                2"
      ]
     },
     "metadata": {},
     "output_type": "display_data"
    }
   ],
   "source": [
    "# Exibindo dataframes\n",
    "display(df_departamentos.head())\n",
    "display(df_funcionarios.head())"
   ]
  },
  {
   "cell_type": "markdown",
   "id": "1d4df46c-3425-4642-a0c7-384e52766523",
   "metadata": {},
   "source": [
    "#### Via arquivo .CSV"
   ]
  },
  {
   "cell_type": "code",
   "execution_count": 5,
   "id": "42b0788f-2bdf-48e4-816a-4d631129536b",
   "metadata": {},
   "outputs": [],
   "source": [
    "# Carregando dataframes\n",
    "df_departamentos = con.carregar_dados_csv('departamentos.csv')\n",
    "df_funcionarios  = con.carregar_dados_csv('funcionarios.csv')"
   ]
  },
  {
   "cell_type": "code",
   "execution_count": 6,
   "id": "bbd3b5f1-2f0e-4ae1-bba0-3012547e375d",
   "metadata": {},
   "outputs": [
    {
     "data": {
      "text/html": [
       "<div>\n",
       "<style scoped>\n",
       "    .dataframe tbody tr th:only-of-type {\n",
       "        vertical-align: middle;\n",
       "    }\n",
       "\n",
       "    .dataframe tbody tr th {\n",
       "        vertical-align: top;\n",
       "    }\n",
       "\n",
       "    .dataframe thead th {\n",
       "        text-align: right;\n",
       "    }\n",
       "</style>\n",
       "<table border=\"1\" class=\"dataframe\">\n",
       "  <thead>\n",
       "    <tr style=\"text-align: right;\">\n",
       "      <th></th>\n",
       "      <th>id</th>\n",
       "      <th>nome</th>\n",
       "    </tr>\n",
       "  </thead>\n",
       "  <tbody>\n",
       "    <tr>\n",
       "      <th>0</th>\n",
       "      <td>1</td>\n",
       "      <td>Recursos Humanos</td>\n",
       "    </tr>\n",
       "    <tr>\n",
       "      <th>1</th>\n",
       "      <td>2</td>\n",
       "      <td>Marketing</td>\n",
       "    </tr>\n",
       "    <tr>\n",
       "      <th>2</th>\n",
       "      <td>3</td>\n",
       "      <td>Engenharia</td>\n",
       "    </tr>\n",
       "    <tr>\n",
       "      <th>3</th>\n",
       "      <td>4</td>\n",
       "      <td>Vendas</td>\n",
       "    </tr>\n",
       "    <tr>\n",
       "      <th>4</th>\n",
       "      <td>5</td>\n",
       "      <td>Financeiro</td>\n",
       "    </tr>\n",
       "  </tbody>\n",
       "</table>\n",
       "</div>"
      ],
      "text/plain": [
       "   id              nome\n",
       "0   1  Recursos Humanos\n",
       "1   2         Marketing\n",
       "2   3        Engenharia\n",
       "3   4            Vendas\n",
       "4   5        Financeiro"
      ]
     },
     "metadata": {},
     "output_type": "display_data"
    },
    {
     "data": {
      "text/html": [
       "<div>\n",
       "<style scoped>\n",
       "    .dataframe tbody tr th:only-of-type {\n",
       "        vertical-align: middle;\n",
       "    }\n",
       "\n",
       "    .dataframe tbody tr th {\n",
       "        vertical-align: top;\n",
       "    }\n",
       "\n",
       "    .dataframe thead th {\n",
       "        text-align: right;\n",
       "    }\n",
       "</style>\n",
       "<table border=\"1\" class=\"dataframe\">\n",
       "  <thead>\n",
       "    <tr style=\"text-align: right;\">\n",
       "      <th></th>\n",
       "      <th>id</th>\n",
       "      <th>nome</th>\n",
       "      <th>sobrenome</th>\n",
       "      <th>salario</th>\n",
       "      <th>departamento_id</th>\n",
       "    </tr>\n",
       "  </thead>\n",
       "  <tbody>\n",
       "    <tr>\n",
       "      <th>0</th>\n",
       "      <td>1</td>\n",
       "      <td>João</td>\n",
       "      <td>Silva</td>\n",
       "      <td>3000</td>\n",
       "      <td>1</td>\n",
       "    </tr>\n",
       "    <tr>\n",
       "      <th>1</th>\n",
       "      <td>2</td>\n",
       "      <td>Maria</td>\n",
       "      <td>Souza</td>\n",
       "      <td>4000</td>\n",
       "      <td>2</td>\n",
       "    </tr>\n",
       "    <tr>\n",
       "      <th>2</th>\n",
       "      <td>3</td>\n",
       "      <td>Carlos</td>\n",
       "      <td>Oliveira</td>\n",
       "      <td>6500</td>\n",
       "      <td>3</td>\n",
       "    </tr>\n",
       "    <tr>\n",
       "      <th>3</th>\n",
       "      <td>4</td>\n",
       "      <td>Ana</td>\n",
       "      <td>Pereira</td>\n",
       "      <td>3200</td>\n",
       "      <td>1</td>\n",
       "    </tr>\n",
       "    <tr>\n",
       "      <th>4</th>\n",
       "      <td>5</td>\n",
       "      <td>Pedro</td>\n",
       "      <td>Costa</td>\n",
       "      <td>3900</td>\n",
       "      <td>2</td>\n",
       "    </tr>\n",
       "  </tbody>\n",
       "</table>\n",
       "</div>"
      ],
      "text/plain": [
       "   id    nome sobrenome  salario  departamento_id\n",
       "0   1    João     Silva     3000                1\n",
       "1   2   Maria     Souza     4000                2\n",
       "2   3  Carlos  Oliveira     6500                3\n",
       "3   4     Ana   Pereira     3200                1\n",
       "4   5   Pedro     Costa     3900                2"
      ]
     },
     "metadata": {},
     "output_type": "display_data"
    }
   ],
   "source": [
    "# Exibindo dataframes\n",
    "display(df_departamentos.head())\n",
    "display(df_funcionarios.head())"
   ]
  },
  {
   "cell_type": "markdown",
   "id": "d74bb983-ca0e-4158-8a2c-361c09393445",
   "metadata": {},
   "source": [
    "### Solução"
   ]
  },
  {
   "cell_type": "code",
   "execution_count": 7,
   "id": "dec1bb30-325d-408e-af9d-f5209f1d20ff",
   "metadata": {},
   "outputs": [],
   "source": [
    "def salarios_funcionarios(funcionarios: pd.DataFrame, departamentos: pd.DataFrame):\n",
    "    # Mesclando dataframes\n",
    "    df_merge = pd.merge(\n",
    "        funcionarios,\n",
    "        departamentos,\n",
    "        left_on='departamento_id',\n",
    "        right_on='id',\n",
    "        how='inner',\n",
    "        suffixes=('_funcionario', '_departamento'),\n",
    "    )\n",
    "\n",
    "    # Filtrando funcionários com salários acima de 4000\n",
    "    df_merge['salario_acima_4000'] = df_merge['salario'] > 4000\n",
    "\n",
    "    \"\"\" \n",
    "    - Agrupando por nome do departamento.\n",
    "    - Calculando a quantidade de funcionários por departamento\n",
    "    - Calculando a quantidade de funcionários que recebem acima de 4000\n",
    "    \"\"\"\n",
    "    df_agrupado = (\n",
    "        df_merge.groupby('nome_departamento')\n",
    "        .agg(\n",
    "            quantidade_funcionarios=('id_funcionario', 'count'),\n",
    "            funcionarios_acima_4000=('salario_acima_4000', 'sum'),\n",
    "        ).reset_index()\n",
    "    )\n",
    "\n",
    "    # Filtrando departamentos com pelo menos três funcionários\n",
    "    df_agrupado = df_agrupado[df_agrupado['quantidade_funcionarios'] >= 3]\n",
    "\n",
    "    # Calculando a porcentagem de funcionário que recebem acima de 4000 por departamento\n",
    "    df_agrupado['porcentagem_acima_4000'] = round(\n",
    "        ((df_agrupado['funcionarios_acima_4000'] / df_agrupado['quantidade_funcionarios']) * 100), 2,\n",
    "    )\n",
    "\n",
    "    # Filtrando os três principais\n",
    "    df_agrupado = df_agrupado.nlargest(3, 'porcentagem_acima_4000')\n",
    "\n",
    "    # Reposicionando e renomeando colunas do dataframe\n",
    "    df_agrupado = df_agrupado[\n",
    "        ['porcentagem_acima_4000', 'nome_departamento', 'quantidade_funcionarios']\n",
    "    ]\n",
    "    df_agrupado.columns = [\n",
    "        'porcentagem_acima_4000',\n",
    "        'departamento_nome',\n",
    "        'quantidade_funcionarios',\n",
    "    ]\n",
    "\n",
    "    # Ordenando registros pela porcentagem_acima_4000\n",
    "    df_agrupado.sort_values('porcentagem_acima_4000', ascending=False, inplace=True)\n",
    "\n",
    "    return df_agrupado"
   ]
  },
  {
   "cell_type": "code",
   "execution_count": 8,
   "id": "6ccdd15f-b0db-42ee-ba3f-8c37505663ca",
   "metadata": {},
   "outputs": [
    {
     "data": {
      "text/html": [
       "<div>\n",
       "<style scoped>\n",
       "    .dataframe tbody tr th:only-of-type {\n",
       "        vertical-align: middle;\n",
       "    }\n",
       "\n",
       "    .dataframe tbody tr th {\n",
       "        vertical-align: top;\n",
       "    }\n",
       "\n",
       "    .dataframe thead th {\n",
       "        text-align: right;\n",
       "    }\n",
       "</style>\n",
       "<table border=\"1\" class=\"dataframe\">\n",
       "  <thead>\n",
       "    <tr style=\"text-align: right;\">\n",
       "      <th></th>\n",
       "      <th>porcentagem_acima_4000</th>\n",
       "      <th>departamento_nome</th>\n",
       "      <th>quantidade_funcionarios</th>\n",
       "    </tr>\n",
       "  </thead>\n",
       "  <tbody>\n",
       "    <tr>\n",
       "      <th>0</th>\n",
       "      <td>100.00</td>\n",
       "      <td>Engenharia</td>\n",
       "      <td>4</td>\n",
       "    </tr>\n",
       "    <tr>\n",
       "      <th>1</th>\n",
       "      <td>50.00</td>\n",
       "      <td>Financeiro</td>\n",
       "      <td>4</td>\n",
       "    </tr>\n",
       "    <tr>\n",
       "      <th>2</th>\n",
       "      <td>33.33</td>\n",
       "      <td>Marketing</td>\n",
       "      <td>3</td>\n",
       "    </tr>\n",
       "  </tbody>\n",
       "</table>\n",
       "</div>"
      ],
      "text/plain": [
       "   porcentagem_acima_4000 departamento_nome  quantidade_funcionarios\n",
       "0                  100.00        Engenharia                        4\n",
       "1                   50.00        Financeiro                        4\n",
       "2                   33.33         Marketing                        3"
      ]
     },
     "execution_count": 8,
     "metadata": {},
     "output_type": "execute_result"
    }
   ],
   "source": [
    "salarios_funcionarios(df_funcionarios, df_departamentos)"
   ]
  }
 ],
 "metadata": {
  "kernelspec": {
   "display_name": "Python 3 (ipykernel)",
   "language": "python",
   "name": "python3"
  },
  "language_info": {
   "codemirror_mode": {
    "name": "ipython",
    "version": 3
   },
   "file_extension": ".py",
   "mimetype": "text/x-python",
   "name": "python",
   "nbconvert_exporter": "python",
   "pygments_lexer": "ipython3",
   "version": "3.11.7"
  }
 },
 "nbformat": 4,
 "nbformat_minor": 5
}
