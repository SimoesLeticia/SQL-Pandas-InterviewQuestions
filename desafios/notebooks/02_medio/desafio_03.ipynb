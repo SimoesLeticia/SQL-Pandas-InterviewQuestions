{
 "cells": [
  {
   "cell_type": "markdown",
   "id": "1e9d2fbd-b7d8-4d59-9b9e-b02eae4d24ac",
   "metadata": {},
   "source": [
    "## Desafio 03. Estudantes com pontuações mais próximas"
   ]
  },
  {
   "cell_type": "markdown",
   "id": "3dd093ed-3572-45f1-9980-c5564d19f7f7",
   "metadata": {},
   "source": [
    "### Bibliotecas"
   ]
  },
  {
   "cell_type": "code",
   "execution_count": 1,
   "id": "f24a2b02-9319-4505-848f-f540f2b97b4b",
   "metadata": {},
   "outputs": [],
   "source": [
    "import pandas as pd\n",
    "\n",
    "# Módulo de conexão com banco\n",
    "import sys\n",
    "sys.path.append('../') \n",
    "import funcoesconexao as con\n",
    "\n",
    "# Desativa warnings\n",
    "import warnings\n",
    "warnings.filterwarnings('ignore')"
   ]
  },
  {
   "cell_type": "markdown",
   "id": "d04f94f8-47ea-4313-855a-e86e8a49cd6d",
   "metadata": {},
   "source": [
    "### Carregamento dos Dados"
   ]
  },
  {
   "cell_type": "markdown",
   "id": "325d335b-45d7-4316-ad0e-b90bd0ee60bc",
   "metadata": {},
   "source": [
    "#### Via banco de dados — SQL Server"
   ]
  },
  {
   "cell_type": "code",
   "execution_count": 2,
   "id": "ecff57f6-05ea-4db7-8b8a-6d5b0e5ede24",
   "metadata": {},
   "outputs": [
    {
     "name": "stdout",
     "output_type": "stream",
     "text": [
      "----- Conexão com banco de dados estabelecida com sucesso! -----\n"
     ]
    }
   ],
   "source": [
    "conexao = con.conectar_bd()"
   ]
  },
  {
   "cell_type": "code",
   "execution_count": 3,
   "id": "5ae9f69b-1191-49f5-8a0f-be4926c45afc",
   "metadata": {},
   "outputs": [],
   "source": [
    "# Carregando dataframes\n",
    "df_pontuacoes = con.carregar_dados(conexao, 'pontuacoes')\n",
    "\n",
    "# Fechando conexão\n",
    "con.fechar_conexao_bd(conexao)"
   ]
  },
  {
   "cell_type": "code",
   "execution_count": 4,
   "id": "b9fcd43d-c152-4dd9-824c-b0f5b3c4d7f1",
   "metadata": {},
   "outputs": [
    {
     "data": {
      "text/html": [
       "<div>\n",
       "<style scoped>\n",
       "    .dataframe tbody tr th:only-of-type {\n",
       "        vertical-align: middle;\n",
       "    }\n",
       "\n",
       "    .dataframe tbody tr th {\n",
       "        vertical-align: top;\n",
       "    }\n",
       "\n",
       "    .dataframe thead th {\n",
       "        text-align: right;\n",
       "    }\n",
       "</style>\n",
       "<table border=\"1\" class=\"dataframe\">\n",
       "  <thead>\n",
       "    <tr style=\"text-align: right;\">\n",
       "      <th></th>\n",
       "      <th>id</th>\n",
       "      <th>estudante</th>\n",
       "      <th>pontuacao</th>\n",
       "    </tr>\n",
       "  </thead>\n",
       "  <tbody>\n",
       "    <tr>\n",
       "      <th>0</th>\n",
       "      <td>1</td>\n",
       "      <td>Jackson</td>\n",
       "      <td>425</td>\n",
       "    </tr>\n",
       "    <tr>\n",
       "      <th>1</th>\n",
       "      <td>2</td>\n",
       "      <td>Alice</td>\n",
       "      <td>502</td>\n",
       "    </tr>\n",
       "    <tr>\n",
       "      <th>2</th>\n",
       "      <td>3</td>\n",
       "      <td>Milena</td>\n",
       "      <td>550</td>\n",
       "    </tr>\n",
       "    <tr>\n",
       "      <th>3</th>\n",
       "      <td>4</td>\n",
       "      <td>Samuel</td>\n",
       "      <td>525</td>\n",
       "    </tr>\n",
       "  </tbody>\n",
       "</table>\n",
       "</div>"
      ],
      "text/plain": [
       "   id estudante  pontuacao\n",
       "0   1   Jackson        425\n",
       "1   2     Alice        502\n",
       "2   3    Milena        550\n",
       "3   4    Samuel        525"
      ]
     },
     "metadata": {},
     "output_type": "display_data"
    }
   ],
   "source": [
    "# Exibindo dataframes\n",
    "display(df_pontuacoes.head())"
   ]
  },
  {
   "cell_type": "markdown",
   "id": "1d4df46c-3425-4642-a0c7-384e52766523",
   "metadata": {},
   "source": [
    "#### Via arquivo .CSV"
   ]
  },
  {
   "cell_type": "code",
   "execution_count": 5,
   "id": "42b0788f-2bdf-48e4-816a-4d631129536b",
   "metadata": {},
   "outputs": [],
   "source": [
    "# Carregando dataframes\n",
    "df_pontuacoes = con.carregar_dados_csv('pontuacoes.csv')"
   ]
  },
  {
   "cell_type": "code",
   "execution_count": 6,
   "id": "bbd3b5f1-2f0e-4ae1-bba0-3012547e375d",
   "metadata": {},
   "outputs": [
    {
     "data": {
      "text/html": [
       "<div>\n",
       "<style scoped>\n",
       "    .dataframe tbody tr th:only-of-type {\n",
       "        vertical-align: middle;\n",
       "    }\n",
       "\n",
       "    .dataframe tbody tr th {\n",
       "        vertical-align: top;\n",
       "    }\n",
       "\n",
       "    .dataframe thead th {\n",
       "        text-align: right;\n",
       "    }\n",
       "</style>\n",
       "<table border=\"1\" class=\"dataframe\">\n",
       "  <thead>\n",
       "    <tr style=\"text-align: right;\">\n",
       "      <th></th>\n",
       "      <th>id</th>\n",
       "      <th>estudante</th>\n",
       "      <th>pontuacao</th>\n",
       "    </tr>\n",
       "  </thead>\n",
       "  <tbody>\n",
       "    <tr>\n",
       "      <th>0</th>\n",
       "      <td>1</td>\n",
       "      <td>Jackson</td>\n",
       "      <td>425</td>\n",
       "    </tr>\n",
       "    <tr>\n",
       "      <th>1</th>\n",
       "      <td>2</td>\n",
       "      <td>Alice</td>\n",
       "      <td>502</td>\n",
       "    </tr>\n",
       "    <tr>\n",
       "      <th>2</th>\n",
       "      <td>3</td>\n",
       "      <td>Milena</td>\n",
       "      <td>550</td>\n",
       "    </tr>\n",
       "    <tr>\n",
       "      <th>3</th>\n",
       "      <td>4</td>\n",
       "      <td>Samuel</td>\n",
       "      <td>525</td>\n",
       "    </tr>\n",
       "  </tbody>\n",
       "</table>\n",
       "</div>"
      ],
      "text/plain": [
       "   id estudante  pontuacao\n",
       "0   1   Jackson        425\n",
       "1   2     Alice        502\n",
       "2   3    Milena        550\n",
       "3   4    Samuel        525"
      ]
     },
     "metadata": {},
     "output_type": "display_data"
    }
   ],
   "source": [
    "# Exibindo dataframes\n",
    "display(df_pontuacoes.head())"
   ]
  },
  {
   "cell_type": "markdown",
   "id": "d74bb983-ca0e-4158-8a2c-361c09393445",
   "metadata": {},
   "source": [
    "### Solução"
   ]
  },
  {
   "cell_type": "code",
   "execution_count": 7,
   "id": "e4bdfea7-a01f-4dfd-b7ac-4f65d8d41344",
   "metadata": {},
   "outputs": [],
   "source": [
    "def pontuacoes_mais_proximas(pontuacoes: pd.DataFrame):\n",
    "    # Criando uma coluna key\n",
    "    pontuacoes['key'] = 0\n",
    "    \n",
    "    # Mesclando dataframes\n",
    "    df_merge = pd.merge(pontuacoes, pontuacoes, on='key', suffixes=('_1', '_2'))\n",
    "    \n",
    "    # Removendo registros iguais\n",
    "    df_merge = df_merge[df_merge['id_1'] != df_merge['id_2']]\n",
    "    \n",
    "    # Calculando a diferença absoluta\n",
    "    df_merge['pontuacao_diferenca'] = abs(df_merge['pontuacao_1'] - df_merge['pontuacao_2'])\n",
    "    \n",
    "    # Ordenando dataframe\n",
    "    df_merge.sort_values(by=['pontuacao_diferenca', 'estudante_1'], inplace=True)\n",
    "    \n",
    "    # Resultado\n",
    "    pontuacoes_mais_proximas = df_merge[['estudante_1', 'estudante_2', 'pontuacao_diferenca']].head(1)\n",
    "    \n",
    "    # Saída\n",
    "    return pontuacoes_mais_proximas"
   ]
  },
  {
   "cell_type": "code",
   "execution_count": 8,
   "id": "f68bebd2-bfd0-420b-aad5-65acc26a219b",
   "metadata": {},
   "outputs": [
    {
     "data": {
      "text/html": [
       "<div>\n",
       "<style scoped>\n",
       "    .dataframe tbody tr th:only-of-type {\n",
       "        vertical-align: middle;\n",
       "    }\n",
       "\n",
       "    .dataframe tbody tr th {\n",
       "        vertical-align: top;\n",
       "    }\n",
       "\n",
       "    .dataframe thead th {\n",
       "        text-align: right;\n",
       "    }\n",
       "</style>\n",
       "<table border=\"1\" class=\"dataframe\">\n",
       "  <thead>\n",
       "    <tr style=\"text-align: right;\">\n",
       "      <th></th>\n",
       "      <th>estudante_1</th>\n",
       "      <th>estudante_2</th>\n",
       "      <th>pontuacao_diferenca</th>\n",
       "    </tr>\n",
       "  </thead>\n",
       "  <tbody>\n",
       "    <tr>\n",
       "      <th>7</th>\n",
       "      <td>Alice</td>\n",
       "      <td>Samuel</td>\n",
       "      <td>23</td>\n",
       "    </tr>\n",
       "  </tbody>\n",
       "</table>\n",
       "</div>"
      ],
      "text/plain": [
       "  estudante_1 estudante_2  pontuacao_diferenca\n",
       "7       Alice      Samuel                   23"
      ]
     },
     "execution_count": 8,
     "metadata": {},
     "output_type": "execute_result"
    }
   ],
   "source": [
    "pontuacoes_mais_proximas(df_pontuacoes)"
   ]
  }
 ],
 "metadata": {
  "kernelspec": {
   "display_name": "Python 3 (ipykernel)",
   "language": "python",
   "name": "python3"
  },
  "language_info": {
   "codemirror_mode": {
    "name": "ipython",
    "version": 3
   },
   "file_extension": ".py",
   "mimetype": "text/x-python",
   "name": "python",
   "nbconvert_exporter": "python",
   "pygments_lexer": "ipython3",
   "version": "3.11.7"
  }
 },
 "nbformat": 4,
 "nbformat_minor": 5
}
