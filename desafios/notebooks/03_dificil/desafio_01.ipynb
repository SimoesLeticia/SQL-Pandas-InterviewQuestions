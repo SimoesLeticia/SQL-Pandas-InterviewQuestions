{
 "cells": [
  {
   "cell_type": "markdown",
   "id": "ba01b5f5-7f4a-44f3-a7e9-bbfd1f76d540",
   "metadata": {},
   "source": [
    "## Desafio 01. Média móvel para transações bancárias"
   ]
  },
  {
   "cell_type": "markdown",
   "id": "4d92c714-9c53-44bc-bdf2-d040bf3099d8",
   "metadata": {},
   "source": [
    "### Bibliotecas"
   ]
  },
  {
   "cell_type": "code",
   "execution_count": 1,
   "id": "94e25d5b-ab4c-4afe-b613-ff2605643d45",
   "metadata": {},
   "outputs": [],
   "source": [
    "import pandas as pd\n",
    "\n",
    "# Módulo de conexão com banco\n",
    "import sys\n",
    "sys.path.append('../') \n",
    "import funcoesconexao as con\n",
    "\n",
    "# Desativa warnings\n",
    "import warnings\n",
    "warnings.filterwarnings('ignore')"
   ]
  },
  {
   "cell_type": "markdown",
   "id": "2b303f3a-f300-4570-94fb-818db77dc24c",
   "metadata": {},
   "source": [
    "### Carregamento dos Dados"
   ]
  },
  {
   "cell_type": "markdown",
   "id": "85e6aeb1-a89f-4d94-b36b-cb896a42b859",
   "metadata": {},
   "source": [
    "#### Via banco de dados — SQL Server"
   ]
  },
  {
   "cell_type": "code",
   "execution_count": 2,
   "id": "63bc71ba-88b9-40a9-a92a-c5d9231445d4",
   "metadata": {},
   "outputs": [
    {
     "name": "stdout",
     "output_type": "stream",
     "text": [
      "----- Conexão com banco de dados estabelecida com sucesso! -----\n"
     ]
    }
   ],
   "source": [
    "conexao = con.conectar_bd()"
   ]
  },
  {
   "cell_type": "code",
   "execution_count": 3,
   "id": "5062448b-c242-4e9b-95b7-6cfde453527c",
   "metadata": {},
   "outputs": [],
   "source": [
    "# Carregando dataframes\n",
    "df_transacoes_bancarias = con.carregar_dados(conexao, 'transacoes_bancarias')\n",
    "\n",
    "# Fechando conexão\n",
    "con.fechar_conexao_bd(conexao)"
   ]
  },
  {
   "cell_type": "code",
   "execution_count": 4,
   "id": "4ffb6b63-efc7-4d83-bc86-304fa4f6744a",
   "metadata": {},
   "outputs": [
    {
     "data": {
      "text/html": [
       "<div>\n",
       "<style scoped>\n",
       "    .dataframe tbody tr th:only-of-type {\n",
       "        vertical-align: middle;\n",
       "    }\n",
       "\n",
       "    .dataframe tbody tr th {\n",
       "        vertical-align: top;\n",
       "    }\n",
       "\n",
       "    .dataframe thead th {\n",
       "        text-align: right;\n",
       "    }\n",
       "</style>\n",
       "<table border=\"1\" class=\"dataframe\">\n",
       "  <thead>\n",
       "    <tr style=\"text-align: right;\">\n",
       "      <th></th>\n",
       "      <th>id</th>\n",
       "      <th>data_criacao</th>\n",
       "      <th>valor_transacao</th>\n",
       "    </tr>\n",
       "  </thead>\n",
       "  <tbody>\n",
       "    <tr>\n",
       "      <th>0</th>\n",
       "      <td>1</td>\n",
       "      <td>2020-10-01 13:15:45</td>\n",
       "      <td>100.00</td>\n",
       "    </tr>\n",
       "    <tr>\n",
       "      <th>1</th>\n",
       "      <td>2</td>\n",
       "      <td>2020-10-01 15:10:00</td>\n",
       "      <td>55.90</td>\n",
       "    </tr>\n",
       "    <tr>\n",
       "      <th>2</th>\n",
       "      <td>3</td>\n",
       "      <td>2020-10-02 08:15:30</td>\n",
       "      <td>12.50</td>\n",
       "    </tr>\n",
       "    <tr>\n",
       "      <th>3</th>\n",
       "      <td>4</td>\n",
       "      <td>2020-10-02 08:35:00</td>\n",
       "      <td>220.00</td>\n",
       "    </tr>\n",
       "    <tr>\n",
       "      <th>4</th>\n",
       "      <td>5</td>\n",
       "      <td>2020-10-02 09:40:50</td>\n",
       "      <td>330.88</td>\n",
       "    </tr>\n",
       "  </tbody>\n",
       "</table>\n",
       "</div>"
      ],
      "text/plain": [
       "   id        data_criacao  valor_transacao\n",
       "0   1 2020-10-01 13:15:45           100.00\n",
       "1   2 2020-10-01 15:10:00            55.90\n",
       "2   3 2020-10-02 08:15:30            12.50\n",
       "3   4 2020-10-02 08:35:00           220.00\n",
       "4   5 2020-10-02 09:40:50           330.88"
      ]
     },
     "metadata": {},
     "output_type": "display_data"
    }
   ],
   "source": [
    "# Exibindo dataframes\n",
    "display(df_transacoes_bancarias.head())"
   ]
  },
  {
   "cell_type": "markdown",
   "id": "de9c3807-7395-4841-bffc-e219f281bd78",
   "metadata": {},
   "source": [
    "#### Via arquivo .CSV"
   ]
  },
  {
   "cell_type": "code",
   "execution_count": 5,
   "id": "521b53a7-ec89-4a92-856e-94d59a13136e",
   "metadata": {},
   "outputs": [],
   "source": [
    "# Carregando dataframes\n",
    "df_transacoes_bancarias = con.carregar_dados_csv('transacoes_bancarias.csv')"
   ]
  },
  {
   "cell_type": "code",
   "execution_count": 6,
   "id": "d8d62ac6-6f54-42bf-b1d9-7162ba82ad50",
   "metadata": {},
   "outputs": [
    {
     "data": {
      "text/html": [
       "<div>\n",
       "<style scoped>\n",
       "    .dataframe tbody tr th:only-of-type {\n",
       "        vertical-align: middle;\n",
       "    }\n",
       "\n",
       "    .dataframe tbody tr th {\n",
       "        vertical-align: top;\n",
       "    }\n",
       "\n",
       "    .dataframe thead th {\n",
       "        text-align: right;\n",
       "    }\n",
       "</style>\n",
       "<table border=\"1\" class=\"dataframe\">\n",
       "  <thead>\n",
       "    <tr style=\"text-align: right;\">\n",
       "      <th></th>\n",
       "      <th>id</th>\n",
       "      <th>data_criacao</th>\n",
       "      <th>valor_transacao</th>\n",
       "    </tr>\n",
       "  </thead>\n",
       "  <tbody>\n",
       "    <tr>\n",
       "      <th>0</th>\n",
       "      <td>1</td>\n",
       "      <td>2020-10-01 13:15:45.000</td>\n",
       "      <td>100</td>\n",
       "    </tr>\n",
       "    <tr>\n",
       "      <th>1</th>\n",
       "      <td>2</td>\n",
       "      <td>2020-10-01 15:10:00.000</td>\n",
       "      <td>55,9</td>\n",
       "    </tr>\n",
       "    <tr>\n",
       "      <th>2</th>\n",
       "      <td>3</td>\n",
       "      <td>2020-10-02 08:15:30.000</td>\n",
       "      <td>12,5</td>\n",
       "    </tr>\n",
       "    <tr>\n",
       "      <th>3</th>\n",
       "      <td>4</td>\n",
       "      <td>2020-10-02 08:35:00.000</td>\n",
       "      <td>220</td>\n",
       "    </tr>\n",
       "    <tr>\n",
       "      <th>4</th>\n",
       "      <td>5</td>\n",
       "      <td>2020-10-02 09:40:50.000</td>\n",
       "      <td>330,88</td>\n",
       "    </tr>\n",
       "  </tbody>\n",
       "</table>\n",
       "</div>"
      ],
      "text/plain": [
       "   id             data_criacao valor_transacao\n",
       "0   1  2020-10-01 13:15:45.000             100\n",
       "1   2  2020-10-01 15:10:00.000            55,9\n",
       "2   3  2020-10-02 08:15:30.000            12,5\n",
       "3   4  2020-10-02 08:35:00.000             220\n",
       "4   5  2020-10-02 09:40:50.000          330,88"
      ]
     },
     "metadata": {},
     "output_type": "display_data"
    }
   ],
   "source": [
    "# Exibindo dataframes\n",
    "display(df_transacoes_bancarias.head())"
   ]
  },
  {
   "cell_type": "markdown",
   "id": "ec65e744-c971-4854-92c5-678df8057e14",
   "metadata": {},
   "source": [
    "### Solução"
   ]
  },
  {
   "cell_type": "code",
   "execution_count": 7,
   "id": "678f00b0-ff91-4323-9614-f381f71ba319",
   "metadata": {},
   "outputs": [],
   "source": [
    "def calcular_media_movel_depositos(transacoes_bancarias: pd.DataFrame):\n",
    "    # Convertendo 'data_criacao' para datetime\n",
    "    transacoes_bancarias['data_criacao'] = pd.to_datetime(\n",
    "        transacoes_bancarias['data_criacao'], errors='coerce'\n",
    "    )\n",
    "\n",
    "    # Convertedo 'valor_transacao' para float\n",
    "    transacoes_bancarias['valor_transacao'] = (\n",
    "        transacoes_bancarias['valor_transacao'].str.replace(',', '.').astype(float)\n",
    "    )\n",
    "\n",
    "    # Criando coluna data_transacao\n",
    "    transacoes_bancarias['data_transacao'] = pd.to_datetime(transacoes_bancarias['data_criacao'], format='%d-%m-%Y').dt.date\n",
    "\n",
    "    # Filtrando apenas depósitos\n",
    "    transacoes_bancarias = transacoes_bancarias[transacoes_bancarias.valor_transacao > 0]\n",
    "\n",
    "    # Agrupando por data e calculando a somatória de cada dia\n",
    "    transacoes_bancarias_agrupado = (\n",
    "        transacoes_bancarias.groupby('data_transacao')\n",
    "        .agg(valor_transacao=('valor_transacao', 'sum'))\n",
    "        .reset_index()\n",
    "    )\n",
    "\n",
    "    # Calculando média móvel\n",
    "    transacoes_bancarias_agrupado['media_movel'] = round(\n",
    "        transacoes_bancarias_agrupado['valor_transacao'].rolling(3, min_periods=1).mean(),\n",
    "        2,\n",
    "    )\n",
    "\n",
    "    # Removendo valores nulos\n",
    "    resultado = transacoes_bancarias_agrupado.dropna()[['data_transacao', 'media_movel']]\n",
    "\n",
    "    # Saída\n",
    "    return resultado"
   ]
  },
  {
   "cell_type": "code",
   "execution_count": 8,
   "id": "cfdeadf5-bac1-449d-90c1-21434f216464",
   "metadata": {},
   "outputs": [
    {
     "data": {
      "text/html": [
       "<div>\n",
       "<style scoped>\n",
       "    .dataframe tbody tr th:only-of-type {\n",
       "        vertical-align: middle;\n",
       "    }\n",
       "\n",
       "    .dataframe tbody tr th {\n",
       "        vertical-align: top;\n",
       "    }\n",
       "\n",
       "    .dataframe thead th {\n",
       "        text-align: right;\n",
       "    }\n",
       "</style>\n",
       "<table border=\"1\" class=\"dataframe\">\n",
       "  <thead>\n",
       "    <tr style=\"text-align: right;\">\n",
       "      <th></th>\n",
       "      <th>data_transacao</th>\n",
       "      <th>media_movel</th>\n",
       "    </tr>\n",
       "  </thead>\n",
       "  <tbody>\n",
       "    <tr>\n",
       "      <th>0</th>\n",
       "      <td>2020-10-01</td>\n",
       "      <td>155.90</td>\n",
       "    </tr>\n",
       "    <tr>\n",
       "      <th>1</th>\n",
       "      <td>2020-10-02</td>\n",
       "      <td>359.64</td>\n",
       "    </tr>\n",
       "    <tr>\n",
       "      <th>2</th>\n",
       "      <td>2020-10-03</td>\n",
       "      <td>252.89</td>\n",
       "    </tr>\n",
       "    <tr>\n",
       "      <th>3</th>\n",
       "      <td>2020-10-04</td>\n",
       "      <td>400.93</td>\n",
       "    </tr>\n",
       "    <tr>\n",
       "      <th>4</th>\n",
       "      <td>2020-10-05</td>\n",
       "      <td>285.67</td>\n",
       "    </tr>\n",
       "  </tbody>\n",
       "</table>\n",
       "</div>"
      ],
      "text/plain": [
       "  data_transacao  media_movel\n",
       "0     2020-10-01       155.90\n",
       "1     2020-10-02       359.64\n",
       "2     2020-10-03       252.89\n",
       "3     2020-10-04       400.93\n",
       "4     2020-10-05       285.67"
      ]
     },
     "execution_count": 8,
     "metadata": {},
     "output_type": "execute_result"
    }
   ],
   "source": [
    "calcular_media_movel_depositos(df_transacoes_bancarias)"
   ]
  }
 ],
 "metadata": {
  "kernelspec": {
   "display_name": "Python 3 (ipykernel)",
   "language": "python",
   "name": "python3"
  },
  "language_info": {
   "codemirror_mode": {
    "name": "ipython",
    "version": 3
   },
   "file_extension": ".py",
   "mimetype": "text/x-python",
   "name": "python",
   "nbconvert_exporter": "python",
   "pygments_lexer": "ipython3",
   "version": "3.11.7"
  }
 },
 "nbformat": 4,
 "nbformat_minor": 5
}
