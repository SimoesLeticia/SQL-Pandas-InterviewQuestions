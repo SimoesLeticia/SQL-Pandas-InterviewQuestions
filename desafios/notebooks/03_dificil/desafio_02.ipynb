{
 "cells": [
  {
   "cell_type": "markdown",
   "id": "ba01b5f5-7f4a-44f3-a7e9-bbfd1f76d540",
   "metadata": {},
   "source": [
    "## Desafio 02. Sobreposição de assinaturas"
   ]
  },
  {
   "cell_type": "markdown",
   "id": "4d92c714-9c53-44bc-bdf2-d040bf3099d8",
   "metadata": {},
   "source": [
    "### Bibliotecas"
   ]
  },
  {
   "cell_type": "code",
   "execution_count": 1,
   "id": "94e25d5b-ab4c-4afe-b613-ff2605643d45",
   "metadata": {},
   "outputs": [],
   "source": [
    "import pandas as pd\n",
    "\n",
    "# Módulo de conexão com banco\n",
    "import sys\n",
    "sys.path.append('../') \n",
    "import funcoesconexao as con\n",
    "\n",
    "# Desativa warnings\n",
    "import warnings\n",
    "warnings.filterwarnings('ignore')"
   ]
  },
  {
   "cell_type": "markdown",
   "id": "2b303f3a-f300-4570-94fb-818db77dc24c",
   "metadata": {},
   "source": [
    "### Carregamento dos Dados"
   ]
  },
  {
   "cell_type": "markdown",
   "id": "85e6aeb1-a89f-4d94-b36b-cb896a42b859",
   "metadata": {},
   "source": [
    "#### Via banco de dados — SQL Server"
   ]
  },
  {
   "cell_type": "code",
   "execution_count": 2,
   "id": "63bc71ba-88b9-40a9-a92a-c5d9231445d4",
   "metadata": {},
   "outputs": [
    {
     "name": "stdout",
     "output_type": "stream",
     "text": [
      "----- Conexão com banco de dados estabelecida com sucesso! -----\n"
     ]
    }
   ],
   "source": [
    "conexao = con.conectar_bd()"
   ]
  },
  {
   "cell_type": "code",
   "execution_count": 3,
   "id": "5062448b-c242-4e9b-95b7-6cfde453527c",
   "metadata": {},
   "outputs": [],
   "source": [
    "# Carregando dataframes\n",
    "df_assinaturas = con.carregar_dados(conexao, 'assinaturas')\n",
    "\n",
    "# Fechando conexão\n",
    "con.fechar_conexao_bd(conexao)"
   ]
  },
  {
   "cell_type": "code",
   "execution_count": 4,
   "id": "4ffb6b63-efc7-4d83-bc86-304fa4f6744a",
   "metadata": {},
   "outputs": [
    {
     "data": {
      "text/html": [
       "<div>\n",
       "<style scoped>\n",
       "    .dataframe tbody tr th:only-of-type {\n",
       "        vertical-align: middle;\n",
       "    }\n",
       "\n",
       "    .dataframe tbody tr th {\n",
       "        vertical-align: top;\n",
       "    }\n",
       "\n",
       "    .dataframe thead th {\n",
       "        text-align: right;\n",
       "    }\n",
       "</style>\n",
       "<table border=\"1\" class=\"dataframe\">\n",
       "  <thead>\n",
       "    <tr style=\"text-align: right;\">\n",
       "      <th></th>\n",
       "      <th>usuario_id</th>\n",
       "      <th>data_inicio</th>\n",
       "      <th>data_termino</th>\n",
       "    </tr>\n",
       "  </thead>\n",
       "  <tbody>\n",
       "    <tr>\n",
       "      <th>0</th>\n",
       "      <td>1</td>\n",
       "      <td>2019-01-01</td>\n",
       "      <td>2019-01-31</td>\n",
       "    </tr>\n",
       "    <tr>\n",
       "      <th>1</th>\n",
       "      <td>2</td>\n",
       "      <td>2019-01-15</td>\n",
       "      <td>2019-01-17</td>\n",
       "    </tr>\n",
       "    <tr>\n",
       "      <th>2</th>\n",
       "      <td>3</td>\n",
       "      <td>2019-01-29</td>\n",
       "      <td>2019-02-04</td>\n",
       "    </tr>\n",
       "    <tr>\n",
       "      <th>3</th>\n",
       "      <td>4</td>\n",
       "      <td>2019-02-05</td>\n",
       "      <td>2019-02-10</td>\n",
       "    </tr>\n",
       "    <tr>\n",
       "      <th>4</th>\n",
       "      <td>5</td>\n",
       "      <td>2019-03-07</td>\n",
       "      <td>None</td>\n",
       "    </tr>\n",
       "  </tbody>\n",
       "</table>\n",
       "</div>"
      ],
      "text/plain": [
       "   usuario_id data_inicio data_termino\n",
       "0           1  2019-01-01   2019-01-31\n",
       "1           2  2019-01-15   2019-01-17\n",
       "2           3  2019-01-29   2019-02-04\n",
       "3           4  2019-02-05   2019-02-10\n",
       "4           5  2019-03-07         None"
      ]
     },
     "metadata": {},
     "output_type": "display_data"
    }
   ],
   "source": [
    "# Exibindo dataframes\n",
    "display(df_assinaturas.head())"
   ]
  },
  {
   "cell_type": "markdown",
   "id": "de9c3807-7395-4841-bffc-e219f281bd78",
   "metadata": {},
   "source": [
    "#### Via arquivo .CSV"
   ]
  },
  {
   "cell_type": "code",
   "execution_count": 5,
   "id": "521b53a7-ec89-4a92-856e-94d59a13136e",
   "metadata": {},
   "outputs": [],
   "source": [
    "# Carregando dataframes\n",
    "df_assinaturas = con.carregar_dados_csv('assinaturas.csv')"
   ]
  },
  {
   "cell_type": "code",
   "execution_count": 6,
   "id": "d8d62ac6-6f54-42bf-b1d9-7162ba82ad50",
   "metadata": {},
   "outputs": [
    {
     "data": {
      "text/html": [
       "<div>\n",
       "<style scoped>\n",
       "    .dataframe tbody tr th:only-of-type {\n",
       "        vertical-align: middle;\n",
       "    }\n",
       "\n",
       "    .dataframe tbody tr th {\n",
       "        vertical-align: top;\n",
       "    }\n",
       "\n",
       "    .dataframe thead th {\n",
       "        text-align: right;\n",
       "    }\n",
       "</style>\n",
       "<table border=\"1\" class=\"dataframe\">\n",
       "  <thead>\n",
       "    <tr style=\"text-align: right;\">\n",
       "      <th></th>\n",
       "      <th>usuario_id</th>\n",
       "      <th>data_inicio</th>\n",
       "      <th>data_termino</th>\n",
       "    </tr>\n",
       "  </thead>\n",
       "  <tbody>\n",
       "    <tr>\n",
       "      <th>0</th>\n",
       "      <td>1</td>\n",
       "      <td>2019-01-01</td>\n",
       "      <td>2019-01-31</td>\n",
       "    </tr>\n",
       "    <tr>\n",
       "      <th>1</th>\n",
       "      <td>2</td>\n",
       "      <td>2019-01-15</td>\n",
       "      <td>2019-01-17</td>\n",
       "    </tr>\n",
       "    <tr>\n",
       "      <th>2</th>\n",
       "      <td>3</td>\n",
       "      <td>2019-01-29</td>\n",
       "      <td>2019-02-04</td>\n",
       "    </tr>\n",
       "    <tr>\n",
       "      <th>3</th>\n",
       "      <td>4</td>\n",
       "      <td>2019-02-05</td>\n",
       "      <td>2019-02-10</td>\n",
       "    </tr>\n",
       "    <tr>\n",
       "      <th>4</th>\n",
       "      <td>5</td>\n",
       "      <td>2019-03-07</td>\n",
       "      <td>NaN</td>\n",
       "    </tr>\n",
       "  </tbody>\n",
       "</table>\n",
       "</div>"
      ],
      "text/plain": [
       "   usuario_id data_inicio data_termino\n",
       "0           1  2019-01-01   2019-01-31\n",
       "1           2  2019-01-15   2019-01-17\n",
       "2           3  2019-01-29   2019-02-04\n",
       "3           4  2019-02-05   2019-02-10\n",
       "4           5  2019-03-07          NaN"
      ]
     },
     "metadata": {},
     "output_type": "display_data"
    }
   ],
   "source": [
    "# Exibindo dataframes\n",
    "display(df_assinaturas.head())"
   ]
  },
  {
   "cell_type": "markdown",
   "id": "ec65e744-c971-4854-92c5-678df8057e14",
   "metadata": {},
   "source": [
    "### Solução"
   ]
  },
  {
   "cell_type": "code",
   "execution_count": 7,
   "id": "67f7ac5b-f440-4ad8-b485-ee9c39202b6a",
   "metadata": {},
   "outputs": [],
   "source": [
    "def sobreposicao_assinaturas(assinaturas: pd.DataFrame):\n",
    "    # Convertendo colunas para o tipo datetime\n",
    "    assinaturas['data_inicio'] = pd.to_datetime(assinaturas['data_inicio'])\n",
    "    assinaturas['data_termino'] = pd.to_datetime(assinaturas['data_termino'])\n",
    "\n",
    "    # Filtrando apenas assinaturas concluídas\n",
    "    assinaturas = assinaturas[assinaturas['data_termino'].notna()]\n",
    "\n",
    "    # Ordenando dataframe\n",
    "    assinaturas = assinaturas.sort_values(by='data_inicio')\n",
    "\n",
    "    # Criando dicionário\n",
    "    sobreposicao_status = {}\n",
    "\n",
    "    # Alimenta dicionário\n",
    "    for index, row in assinaturas.iterrows():\n",
    "        usuario_id = row['usuario_id']\n",
    "        data_inicio = row['data_inicio']\n",
    "        data_termino = row['data_termino']\n",
    "\n",
    "        # Verificando se alguma assinatura anterior se sobrepõe à assinatura atual\n",
    "        assinatura_anterior = assinaturas[\n",
    "            (assinaturas['data_termino'] >= data_inicio) & \n",
    "            (assinaturas['usuario_id'] != usuario_id)\n",
    "        ]\n",
    "\n",
    "        if not assinatura_anterior.empty:\n",
    "            sobreposicao_status[usuario_id] = 1\n",
    "        else:\n",
    "            sobreposicao_status[usuario_id] = 0\n",
    "\n",
    "    # Criando dataframe com status da sobreposição\n",
    "    df_sobreposicao = pd.DataFrame.from_dict(\n",
    "        sobreposicao_status, orient='index', columns=['sobreposicao']\n",
    "    )\n",
    "\n",
    "    # Renomeando e resetando índice\n",
    "    df_sobreposicao.index.name = 'usuario_id'\n",
    "    df_sobreposicao.reset_index(inplace=True)\n",
    "\n",
    "    # Saída\n",
    "    return df_sobreposicao"
   ]
  },
  {
   "cell_type": "code",
   "execution_count": 8,
   "id": "21f23261-b4db-4153-b144-8af3d0822029",
   "metadata": {},
   "outputs": [
    {
     "data": {
      "text/html": [
       "<div>\n",
       "<style scoped>\n",
       "    .dataframe tbody tr th:only-of-type {\n",
       "        vertical-align: middle;\n",
       "    }\n",
       "\n",
       "    .dataframe tbody tr th {\n",
       "        vertical-align: top;\n",
       "    }\n",
       "\n",
       "    .dataframe thead th {\n",
       "        text-align: right;\n",
       "    }\n",
       "</style>\n",
       "<table border=\"1\" class=\"dataframe\">\n",
       "  <thead>\n",
       "    <tr style=\"text-align: right;\">\n",
       "      <th></th>\n",
       "      <th>usuario_id</th>\n",
       "      <th>sobreposicao</th>\n",
       "    </tr>\n",
       "  </thead>\n",
       "  <tbody>\n",
       "    <tr>\n",
       "      <th>0</th>\n",
       "      <td>1</td>\n",
       "      <td>1</td>\n",
       "    </tr>\n",
       "    <tr>\n",
       "      <th>1</th>\n",
       "      <td>2</td>\n",
       "      <td>1</td>\n",
       "    </tr>\n",
       "    <tr>\n",
       "      <th>2</th>\n",
       "      <td>3</td>\n",
       "      <td>1</td>\n",
       "    </tr>\n",
       "    <tr>\n",
       "      <th>3</th>\n",
       "      <td>4</td>\n",
       "      <td>0</td>\n",
       "    </tr>\n",
       "  </tbody>\n",
       "</table>\n",
       "</div>"
      ],
      "text/plain": [
       "   usuario_id  sobreposicao\n",
       "0           1             1\n",
       "1           2             1\n",
       "2           3             1\n",
       "3           4             0"
      ]
     },
     "execution_count": 8,
     "metadata": {},
     "output_type": "execute_result"
    }
   ],
   "source": [
    "sobreposicao_assinaturas(df_assinaturas)"
   ]
  }
 ],
 "metadata": {
  "kernelspec": {
   "display_name": "Python 3 (ipykernel)",
   "language": "python",
   "name": "python3"
  },
  "language_info": {
   "codemirror_mode": {
    "name": "ipython",
    "version": 3
   },
   "file_extension": ".py",
   "mimetype": "text/x-python",
   "name": "python",
   "nbconvert_exporter": "python",
   "pygments_lexer": "ipython3",
   "version": "3.11.7"
  }
 },
 "nbformat": 4,
 "nbformat_minor": 5
}
