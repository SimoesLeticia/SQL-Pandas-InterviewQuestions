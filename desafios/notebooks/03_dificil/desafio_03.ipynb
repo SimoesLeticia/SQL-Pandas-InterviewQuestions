{
 "cells": [
  {
   "cell_type": "markdown",
   "id": "ba01b5f5-7f4a-44f3-a7e9-bbfd1f76d540",
   "metadata": {},
   "source": [
    "## Desafio 03. Rotas de voo"
   ]
  },
  {
   "cell_type": "markdown",
   "id": "4d92c714-9c53-44bc-bdf2-d040bf3099d8",
   "metadata": {},
   "source": [
    "### Bibliotecas"
   ]
  },
  {
   "cell_type": "code",
   "execution_count": 1,
   "id": "94e25d5b-ab4c-4afe-b613-ff2605643d45",
   "metadata": {},
   "outputs": [],
   "source": [
    "import pandas as pd\n",
    "\n",
    "# Módulo de conexão com banco\n",
    "import sys\n",
    "sys.path.append('../') \n",
    "import funcoesconexao as con\n",
    "\n",
    "# Desativa warnings\n",
    "import warnings\n",
    "warnings.filterwarnings('ignore')"
   ]
  },
  {
   "cell_type": "markdown",
   "id": "2b303f3a-f300-4570-94fb-818db77dc24c",
   "metadata": {},
   "source": [
    "### Carregamento dos Dados"
   ]
  },
  {
   "cell_type": "markdown",
   "id": "85e6aeb1-a89f-4d94-b36b-cb896a42b859",
   "metadata": {},
   "source": [
    "#### Via banco de dados — SQL Server"
   ]
  },
  {
   "cell_type": "code",
   "execution_count": 2,
   "id": "63bc71ba-88b9-40a9-a92a-c5d9231445d4",
   "metadata": {},
   "outputs": [
    {
     "name": "stdout",
     "output_type": "stream",
     "text": [
      "----- Conexão com banco de dados estabelecida com sucesso! -----\n"
     ]
    }
   ],
   "source": [
    "conexao = con.conectar_bd()"
   ]
  },
  {
   "cell_type": "code",
   "execution_count": 3,
   "id": "5062448b-c242-4e9b-95b7-6cfde453527c",
   "metadata": {},
   "outputs": [],
   "source": [
    "# Carregando dataframes\n",
    "df_voos = con.carregar_dados(conexao, 'voos')\n",
    "\n",
    "# Fechando conexão\n",
    "con.fechar_conexao_bd(conexao)"
   ]
  },
  {
   "cell_type": "code",
   "execution_count": 4,
   "id": "4ffb6b63-efc7-4d83-bc86-304fa4f6744a",
   "metadata": {},
   "outputs": [
    {
     "data": {
      "text/html": [
       "<div>\n",
       "<style scoped>\n",
       "    .dataframe tbody tr th:only-of-type {\n",
       "        vertical-align: middle;\n",
       "    }\n",
       "\n",
       "    .dataframe tbody tr th {\n",
       "        vertical-align: top;\n",
       "    }\n",
       "\n",
       "    .dataframe thead th {\n",
       "        text-align: right;\n",
       "    }\n",
       "</style>\n",
       "<table border=\"1\" class=\"dataframe\">\n",
       "  <thead>\n",
       "    <tr style=\"text-align: right;\">\n",
       "      <th></th>\n",
       "      <th>id</th>\n",
       "      <th>aeroporto_origem</th>\n",
       "      <th>local_origem</th>\n",
       "      <th>aeroporto_destino</th>\n",
       "      <th>local_destino</th>\n",
       "    </tr>\n",
       "  </thead>\n",
       "  <tbody>\n",
       "    <tr>\n",
       "      <th>0</th>\n",
       "      <td>1</td>\n",
       "      <td>Aeroporto de São Paulo-Congonhas</td>\n",
       "      <td>São Paulo</td>\n",
       "      <td>Aeroporto Internacional de Brasília</td>\n",
       "      <td>Distrito Federal</td>\n",
       "    </tr>\n",
       "    <tr>\n",
       "      <th>1</th>\n",
       "      <td>2</td>\n",
       "      <td>Aeroporto Internacional de Brasília</td>\n",
       "      <td>Distrito Federal</td>\n",
       "      <td>Aeroporto de São Paulo-Congonhas</td>\n",
       "      <td>São Paulo</td>\n",
       "    </tr>\n",
       "    <tr>\n",
       "      <th>2</th>\n",
       "      <td>3</td>\n",
       "      <td>Aeroporto de São Paulo-Congonhas</td>\n",
       "      <td>São Paulo</td>\n",
       "      <td>Aeroporto Internacional Tom Jobim-Rio Galeão</td>\n",
       "      <td>Rio de Janeiro</td>\n",
       "    </tr>\n",
       "    <tr>\n",
       "      <th>3</th>\n",
       "      <td>4</td>\n",
       "      <td>Aeroporto Internacional Tom Jobim-Rio Galeão</td>\n",
       "      <td>Rio de Janeiro</td>\n",
       "      <td>Aeroporto de São Paulo-Congonhas</td>\n",
       "      <td>São Paulo</td>\n",
       "    </tr>\n",
       "    <tr>\n",
       "      <th>4</th>\n",
       "      <td>5</td>\n",
       "      <td>Aeroporto Internacional de Belo Horizonte-Confins</td>\n",
       "      <td>Minas Gerais</td>\n",
       "      <td>Aeroporto Internacional Tom Jobim-Rio Galeão</td>\n",
       "      <td>Rio de Janeiro</td>\n",
       "    </tr>\n",
       "  </tbody>\n",
       "</table>\n",
       "</div>"
      ],
      "text/plain": [
       "   id                                   aeroporto_origem      local_origem  \\\n",
       "0   1                   Aeroporto de São Paulo-Congonhas         São Paulo   \n",
       "1   2                Aeroporto Internacional de Brasília  Distrito Federal   \n",
       "2   3                   Aeroporto de São Paulo-Congonhas         São Paulo   \n",
       "3   4       Aeroporto Internacional Tom Jobim-Rio Galeão    Rio de Janeiro   \n",
       "4   5  Aeroporto Internacional de Belo Horizonte-Confins      Minas Gerais   \n",
       "\n",
       "                              aeroporto_destino     local_destino  \n",
       "0           Aeroporto Internacional de Brasília  Distrito Federal  \n",
       "1              Aeroporto de São Paulo-Congonhas         São Paulo  \n",
       "2  Aeroporto Internacional Tom Jobim-Rio Galeão    Rio de Janeiro  \n",
       "3              Aeroporto de São Paulo-Congonhas         São Paulo  \n",
       "4  Aeroporto Internacional Tom Jobim-Rio Galeão    Rio de Janeiro  "
      ]
     },
     "metadata": {},
     "output_type": "display_data"
    }
   ],
   "source": [
    "# Exibindo dataframes\n",
    "display(df_voos.head())"
   ]
  },
  {
   "cell_type": "markdown",
   "id": "de9c3807-7395-4841-bffc-e219f281bd78",
   "metadata": {},
   "source": [
    "#### Via arquivo .CSV"
   ]
  },
  {
   "cell_type": "code",
   "execution_count": 5,
   "id": "521b53a7-ec89-4a92-856e-94d59a13136e",
   "metadata": {},
   "outputs": [],
   "source": [
    "# Carregando dataframes\n",
    "df_voos = con.carregar_dados_csv('voos.csv')"
   ]
  },
  {
   "cell_type": "code",
   "execution_count": 6,
   "id": "d8d62ac6-6f54-42bf-b1d9-7162ba82ad50",
   "metadata": {},
   "outputs": [
    {
     "data": {
      "text/html": [
       "<div>\n",
       "<style scoped>\n",
       "    .dataframe tbody tr th:only-of-type {\n",
       "        vertical-align: middle;\n",
       "    }\n",
       "\n",
       "    .dataframe tbody tr th {\n",
       "        vertical-align: top;\n",
       "    }\n",
       "\n",
       "    .dataframe thead th {\n",
       "        text-align: right;\n",
       "    }\n",
       "</style>\n",
       "<table border=\"1\" class=\"dataframe\">\n",
       "  <thead>\n",
       "    <tr style=\"text-align: right;\">\n",
       "      <th></th>\n",
       "      <th>id</th>\n",
       "      <th>aeroporto_origem</th>\n",
       "      <th>local_origem</th>\n",
       "      <th>aeroporto_destino</th>\n",
       "      <th>local_destino</th>\n",
       "    </tr>\n",
       "  </thead>\n",
       "  <tbody>\n",
       "    <tr>\n",
       "      <th>0</th>\n",
       "      <td>1</td>\n",
       "      <td>Aeroporto de São Paulo-Congonhas</td>\n",
       "      <td>São Paulo</td>\n",
       "      <td>Aeroporto Internacional de Brasília</td>\n",
       "      <td>Distrito Federal</td>\n",
       "    </tr>\n",
       "    <tr>\n",
       "      <th>1</th>\n",
       "      <td>2</td>\n",
       "      <td>Aeroporto Internacional de Brasília</td>\n",
       "      <td>Distrito Federal</td>\n",
       "      <td>Aeroporto de São Paulo-Congonhas</td>\n",
       "      <td>São Paulo</td>\n",
       "    </tr>\n",
       "    <tr>\n",
       "      <th>2</th>\n",
       "      <td>3</td>\n",
       "      <td>Aeroporto de São Paulo-Congonhas</td>\n",
       "      <td>São Paulo</td>\n",
       "      <td>Aeroporto Internacional Tom Jobim-Rio Galeão</td>\n",
       "      <td>Rio de Janeiro</td>\n",
       "    </tr>\n",
       "    <tr>\n",
       "      <th>3</th>\n",
       "      <td>4</td>\n",
       "      <td>Aeroporto Internacional Tom Jobim-Rio Galeão</td>\n",
       "      <td>Rio de Janeiro</td>\n",
       "      <td>Aeroporto de São Paulo-Congonhas</td>\n",
       "      <td>São Paulo</td>\n",
       "    </tr>\n",
       "    <tr>\n",
       "      <th>4</th>\n",
       "      <td>5</td>\n",
       "      <td>Aeroporto Internacional de Belo Horizonte-Confins</td>\n",
       "      <td>Minas Gerais</td>\n",
       "      <td>Aeroporto Internacional Tom Jobim-Rio Galeão</td>\n",
       "      <td>Rio de Janeiro</td>\n",
       "    </tr>\n",
       "  </tbody>\n",
       "</table>\n",
       "</div>"
      ],
      "text/plain": [
       "   id                                   aeroporto_origem      local_origem  \\\n",
       "0   1                   Aeroporto de São Paulo-Congonhas         São Paulo   \n",
       "1   2                Aeroporto Internacional de Brasília  Distrito Federal   \n",
       "2   3                   Aeroporto de São Paulo-Congonhas         São Paulo   \n",
       "3   4       Aeroporto Internacional Tom Jobim-Rio Galeão    Rio de Janeiro   \n",
       "4   5  Aeroporto Internacional de Belo Horizonte-Confins      Minas Gerais   \n",
       "\n",
       "                              aeroporto_destino     local_destino  \n",
       "0           Aeroporto Internacional de Brasília  Distrito Federal  \n",
       "1              Aeroporto de São Paulo-Congonhas         São Paulo  \n",
       "2  Aeroporto Internacional Tom Jobim-Rio Galeão    Rio de Janeiro  \n",
       "3              Aeroporto de São Paulo-Congonhas         São Paulo  \n",
       "4  Aeroporto Internacional Tom Jobim-Rio Galeão    Rio de Janeiro  "
      ]
     },
     "metadata": {},
     "output_type": "display_data"
    }
   ],
   "source": [
    "# Exibindo dataframes\n",
    "display(df_voos.head())"
   ]
  },
  {
   "cell_type": "markdown",
   "id": "ec65e744-c971-4854-92c5-678df8057e14",
   "metadata": {},
   "source": [
    "### Solução"
   ]
  },
  {
   "cell_type": "code",
   "execution_count": 7,
   "id": "678f00b0-ff91-4323-9614-f381f71ba319",
   "metadata": {},
   "outputs": [],
   "source": [
    "def rotas_voo(voos: pd.DataFrame):\n",
    "    # Criando dois dataframes\n",
    "    voos_1 = voos[['local_origem', 'local_destino']]\n",
    "    voos_2 = voos[['local_origem', 'local_destino']]\n",
    "    \n",
    "    # Renomeando colunas e invertendo origem/destino\n",
    "    voos_1.rename(columns={'local_origem':'localidade_01', 'local_destino':'localidade_02'}, inplace=True)\n",
    "    voos_2.rename(columns={'local_origem':'localidade_02', 'local_destino':'localidade_01'}, inplace=True)\n",
    "\n",
    "    # Mesclando dataframes\n",
    "    df_localidades = pd.concat([voos_1, voos_2], axis=0)    \n",
    "\n",
    "    # Filtrando rotas únicas (sem repetição)\n",
    "    df_localidades = df_localidades.loc[df_localidades['localidade_01'] < df_localidades['localidade_02']].drop_duplicates()   \n",
    "\n",
    "    # Ordenando dataframe\n",
    "    df_localidades.sort_values(by='localidade_01', inplace=True)\n",
    "\n",
    "    # Saída\n",
    "    return df_localidades"
   ]
  },
  {
   "cell_type": "code",
   "execution_count": 8,
   "id": "66486a20-af7a-4baf-bacb-9271cf7cff60",
   "metadata": {},
   "outputs": [
    {
     "data": {
      "text/html": [
       "<div>\n",
       "<style scoped>\n",
       "    .dataframe tbody tr th:only-of-type {\n",
       "        vertical-align: middle;\n",
       "    }\n",
       "\n",
       "    .dataframe tbody tr th {\n",
       "        vertical-align: top;\n",
       "    }\n",
       "\n",
       "    .dataframe thead th {\n",
       "        text-align: right;\n",
       "    }\n",
       "</style>\n",
       "<table border=\"1\" class=\"dataframe\">\n",
       "  <thead>\n",
       "    <tr style=\"text-align: right;\">\n",
       "      <th></th>\n",
       "      <th>localidade_01</th>\n",
       "      <th>localidade_02</th>\n",
       "    </tr>\n",
       "  </thead>\n",
       "  <tbody>\n",
       "    <tr>\n",
       "      <th>11</th>\n",
       "      <td>Bahia</td>\n",
       "      <td>Pernambuco</td>\n",
       "    </tr>\n",
       "    <tr>\n",
       "      <th>1</th>\n",
       "      <td>Distrito Federal</td>\n",
       "      <td>São Paulo</td>\n",
       "    </tr>\n",
       "    <tr>\n",
       "      <th>4</th>\n",
       "      <td>Minas Gerais</td>\n",
       "      <td>Rio de Janeiro</td>\n",
       "    </tr>\n",
       "    <tr>\n",
       "      <th>7</th>\n",
       "      <td>Minas Gerais</td>\n",
       "      <td>São Paulo</td>\n",
       "    </tr>\n",
       "    <tr>\n",
       "      <th>9</th>\n",
       "      <td>Pernambuco</td>\n",
       "      <td>Rio de Janeiro</td>\n",
       "    </tr>\n",
       "    <tr>\n",
       "      <th>3</th>\n",
       "      <td>Rio de Janeiro</td>\n",
       "      <td>São Paulo</td>\n",
       "    </tr>\n",
       "  </tbody>\n",
       "</table>\n",
       "</div>"
      ],
      "text/plain": [
       "       localidade_01   localidade_02\n",
       "11             Bahia      Pernambuco\n",
       "1   Distrito Federal       São Paulo\n",
       "4       Minas Gerais  Rio de Janeiro\n",
       "7       Minas Gerais       São Paulo\n",
       "9         Pernambuco  Rio de Janeiro\n",
       "3     Rio de Janeiro       São Paulo"
      ]
     },
     "execution_count": 8,
     "metadata": {},
     "output_type": "execute_result"
    }
   ],
   "source": [
    "rotas_voo(df_voos)"
   ]
  }
 ],
 "metadata": {
  "kernelspec": {
   "display_name": "Python 3 (ipykernel)",
   "language": "python",
   "name": "python3"
  },
  "language_info": {
   "codemirror_mode": {
    "name": "ipython",
    "version": 3
   },
   "file_extension": ".py",
   "mimetype": "text/x-python",
   "name": "python",
   "nbconvert_exporter": "python",
   "pygments_lexer": "ipython3",
   "version": "3.11.7"
  }
 },
 "nbformat": 4,
 "nbformat_minor": 5
}
