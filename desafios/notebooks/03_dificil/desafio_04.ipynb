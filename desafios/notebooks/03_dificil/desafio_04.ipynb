{
 "cells": [
  {
   "cell_type": "markdown",
   "id": "ba01b5f5-7f4a-44f3-a7e9-bbfd1f76d540",
   "metadata": {},
   "source": [
    "## Desafio 04. Promoções cruzadas"
   ]
  },
  {
   "cell_type": "markdown",
   "id": "4d92c714-9c53-44bc-bdf2-d040bf3099d8",
   "metadata": {},
   "source": [
    "### Bibliotecas"
   ]
  },
  {
   "cell_type": "code",
   "execution_count": 1,
   "id": "94e25d5b-ab4c-4afe-b613-ff2605643d45",
   "metadata": {},
   "outputs": [],
   "source": [
    "import pandas as pd\n",
    "\n",
    "# Módulo de conexão com banco\n",
    "import sys\n",
    "sys.path.append('../') \n",
    "import funcoesconexao as con\n",
    "\n",
    "# Desativa warnings\n",
    "import warnings\n",
    "warnings.filterwarnings('ignore')"
   ]
  },
  {
   "cell_type": "markdown",
   "id": "2b303f3a-f300-4570-94fb-818db77dc24c",
   "metadata": {},
   "source": [
    "### Carregamento dos Dados"
   ]
  },
  {
   "cell_type": "markdown",
   "id": "85e6aeb1-a89f-4d94-b36b-cb896a42b859",
   "metadata": {},
   "source": [
    "#### Via banco de dados — SQL Server"
   ]
  },
  {
   "cell_type": "code",
   "execution_count": 2,
   "id": "63bc71ba-88b9-40a9-a92a-c5d9231445d4",
   "metadata": {},
   "outputs": [
    {
     "name": "stdout",
     "output_type": "stream",
     "text": [
      "----- Conexão com banco de dados estabelecida com sucesso! -----\n"
     ]
    }
   ],
   "source": [
    "conexao = con.conectar_bd()"
   ]
  },
  {
   "cell_type": "code",
   "execution_count": 3,
   "id": "5062448b-c242-4e9b-95b7-6cfde453527c",
   "metadata": {},
   "outputs": [],
   "source": [
    "# Carregando dataframes\n",
    "df_pedidos  = con.carregar_dados(conexao, 'pedidos')\n",
    "df_produtos = con.carregar_dados(conexao, 'produtos')\n",
    "\n",
    "# Fechando conexão\n",
    "con.fechar_conexao_bd(conexao)"
   ]
  },
  {
   "cell_type": "code",
   "execution_count": 4,
   "id": "4ffb6b63-efc7-4d83-bc86-304fa4f6744a",
   "metadata": {},
   "outputs": [
    {
     "data": {
      "text/html": [
       "<div>\n",
       "<style scoped>\n",
       "    .dataframe tbody tr th:only-of-type {\n",
       "        vertical-align: middle;\n",
       "    }\n",
       "\n",
       "    .dataframe tbody tr th {\n",
       "        vertical-align: top;\n",
       "    }\n",
       "\n",
       "    .dataframe thead th {\n",
       "        text-align: right;\n",
       "    }\n",
       "</style>\n",
       "<table border=\"1\" class=\"dataframe\">\n",
       "  <thead>\n",
       "    <tr style=\"text-align: right;\">\n",
       "      <th></th>\n",
       "      <th>id</th>\n",
       "      <th>usuario_id</th>\n",
       "      <th>data_criacao</th>\n",
       "      <th>produto_id</th>\n",
       "      <th>quantidade</th>\n",
       "    </tr>\n",
       "  </thead>\n",
       "  <tbody>\n",
       "    <tr>\n",
       "      <th>0</th>\n",
       "      <td>1</td>\n",
       "      <td>1</td>\n",
       "      <td>2019-01-01</td>\n",
       "      <td>1</td>\n",
       "      <td>10</td>\n",
       "    </tr>\n",
       "    <tr>\n",
       "      <th>1</th>\n",
       "      <td>2</td>\n",
       "      <td>3</td>\n",
       "      <td>2019-01-02</td>\n",
       "      <td>2</td>\n",
       "      <td>3</td>\n",
       "    </tr>\n",
       "    <tr>\n",
       "      <th>2</th>\n",
       "      <td>3</td>\n",
       "      <td>4</td>\n",
       "      <td>2019-01-02</td>\n",
       "      <td>2</td>\n",
       "      <td>25</td>\n",
       "    </tr>\n",
       "    <tr>\n",
       "      <th>3</th>\n",
       "      <td>4</td>\n",
       "      <td>5</td>\n",
       "      <td>2019-01-02</td>\n",
       "      <td>2</td>\n",
       "      <td>14</td>\n",
       "    </tr>\n",
       "    <tr>\n",
       "      <th>4</th>\n",
       "      <td>5</td>\n",
       "      <td>5</td>\n",
       "      <td>2019-01-06</td>\n",
       "      <td>3</td>\n",
       "      <td>14</td>\n",
       "    </tr>\n",
       "  </tbody>\n",
       "</table>\n",
       "</div>"
      ],
      "text/plain": [
       "   id  usuario_id data_criacao  produto_id  quantidade\n",
       "0   1           1   2019-01-01           1          10\n",
       "1   2           3   2019-01-02           2           3\n",
       "2   3           4   2019-01-02           2          25\n",
       "3   4           5   2019-01-02           2          14\n",
       "4   5           5   2019-01-06           3          14"
      ]
     },
     "metadata": {},
     "output_type": "display_data"
    },
    {
     "data": {
      "text/html": [
       "<div>\n",
       "<style scoped>\n",
       "    .dataframe tbody tr th:only-of-type {\n",
       "        vertical-align: middle;\n",
       "    }\n",
       "\n",
       "    .dataframe tbody tr th {\n",
       "        vertical-align: top;\n",
       "    }\n",
       "\n",
       "    .dataframe thead th {\n",
       "        text-align: right;\n",
       "    }\n",
       "</style>\n",
       "<table border=\"1\" class=\"dataframe\">\n",
       "  <thead>\n",
       "    <tr style=\"text-align: right;\">\n",
       "      <th></th>\n",
       "      <th>id</th>\n",
       "      <th>nome</th>\n",
       "      <th>preco</th>\n",
       "    </tr>\n",
       "  </thead>\n",
       "  <tbody>\n",
       "    <tr>\n",
       "      <th>0</th>\n",
       "      <td>1</td>\n",
       "      <td>Pão de forma</td>\n",
       "      <td>10.15</td>\n",
       "    </tr>\n",
       "    <tr>\n",
       "      <th>1</th>\n",
       "      <td>2</td>\n",
       "      <td>Macarrão</td>\n",
       "      <td>4.20</td>\n",
       "    </tr>\n",
       "    <tr>\n",
       "      <th>2</th>\n",
       "      <td>3</td>\n",
       "      <td>Café</td>\n",
       "      <td>14.90</td>\n",
       "    </tr>\n",
       "    <tr>\n",
       "      <th>3</th>\n",
       "      <td>4</td>\n",
       "      <td>Vinho</td>\n",
       "      <td>89.90</td>\n",
       "    </tr>\n",
       "    <tr>\n",
       "      <th>4</th>\n",
       "      <td>5</td>\n",
       "      <td>Leite</td>\n",
       "      <td>6.10</td>\n",
       "    </tr>\n",
       "  </tbody>\n",
       "</table>\n",
       "</div>"
      ],
      "text/plain": [
       "   id          nome  preco\n",
       "0   1  Pão de forma  10.15\n",
       "1   2      Macarrão   4.20\n",
       "2   3          Café  14.90\n",
       "3   4         Vinho  89.90\n",
       "4   5         Leite   6.10"
      ]
     },
     "metadata": {},
     "output_type": "display_data"
    }
   ],
   "source": [
    "# Exibindo dataframes\n",
    "display(df_pedidos.head())\n",
    "display(df_produtos.head())"
   ]
  },
  {
   "cell_type": "markdown",
   "id": "de9c3807-7395-4841-bffc-e219f281bd78",
   "metadata": {},
   "source": [
    "#### Via arquivo .CSV"
   ]
  },
  {
   "cell_type": "code",
   "execution_count": 5,
   "id": "521b53a7-ec89-4a92-856e-94d59a13136e",
   "metadata": {},
   "outputs": [],
   "source": [
    "# Carregando dataframes\n",
    "df_pedidos  = con.carregar_dados_csv('pedidos.csv')\n",
    "df_produtos = con.carregar_dados_csv('produtos.csv')"
   ]
  },
  {
   "cell_type": "code",
   "execution_count": 6,
   "id": "d8d62ac6-6f54-42bf-b1d9-7162ba82ad50",
   "metadata": {},
   "outputs": [
    {
     "data": {
      "text/html": [
       "<div>\n",
       "<style scoped>\n",
       "    .dataframe tbody tr th:only-of-type {\n",
       "        vertical-align: middle;\n",
       "    }\n",
       "\n",
       "    .dataframe tbody tr th {\n",
       "        vertical-align: top;\n",
       "    }\n",
       "\n",
       "    .dataframe thead th {\n",
       "        text-align: right;\n",
       "    }\n",
       "</style>\n",
       "<table border=\"1\" class=\"dataframe\">\n",
       "  <thead>\n",
       "    <tr style=\"text-align: right;\">\n",
       "      <th></th>\n",
       "      <th>id</th>\n",
       "      <th>usuario_id</th>\n",
       "      <th>data_criacao</th>\n",
       "      <th>produto_id</th>\n",
       "      <th>quantidade</th>\n",
       "    </tr>\n",
       "  </thead>\n",
       "  <tbody>\n",
       "    <tr>\n",
       "      <th>0</th>\n",
       "      <td>1</td>\n",
       "      <td>1</td>\n",
       "      <td>2019-01-01 00:00:00.000</td>\n",
       "      <td>1</td>\n",
       "      <td>10</td>\n",
       "    </tr>\n",
       "    <tr>\n",
       "      <th>1</th>\n",
       "      <td>2</td>\n",
       "      <td>3</td>\n",
       "      <td>2019-01-02 00:00:00.000</td>\n",
       "      <td>2</td>\n",
       "      <td>3</td>\n",
       "    </tr>\n",
       "    <tr>\n",
       "      <th>2</th>\n",
       "      <td>3</td>\n",
       "      <td>4</td>\n",
       "      <td>2019-01-02 00:00:00.000</td>\n",
       "      <td>2</td>\n",
       "      <td>25</td>\n",
       "    </tr>\n",
       "    <tr>\n",
       "      <th>3</th>\n",
       "      <td>4</td>\n",
       "      <td>5</td>\n",
       "      <td>2019-01-02 00:00:00.000</td>\n",
       "      <td>2</td>\n",
       "      <td>14</td>\n",
       "    </tr>\n",
       "    <tr>\n",
       "      <th>4</th>\n",
       "      <td>5</td>\n",
       "      <td>5</td>\n",
       "      <td>2019-01-06 00:00:00.000</td>\n",
       "      <td>3</td>\n",
       "      <td>14</td>\n",
       "    </tr>\n",
       "  </tbody>\n",
       "</table>\n",
       "</div>"
      ],
      "text/plain": [
       "   id  usuario_id             data_criacao  produto_id  quantidade\n",
       "0   1           1  2019-01-01 00:00:00.000           1          10\n",
       "1   2           3  2019-01-02 00:00:00.000           2           3\n",
       "2   3           4  2019-01-02 00:00:00.000           2          25\n",
       "3   4           5  2019-01-02 00:00:00.000           2          14\n",
       "4   5           5  2019-01-06 00:00:00.000           3          14"
      ]
     },
     "metadata": {},
     "output_type": "display_data"
    },
    {
     "data": {
      "text/html": [
       "<div>\n",
       "<style scoped>\n",
       "    .dataframe tbody tr th:only-of-type {\n",
       "        vertical-align: middle;\n",
       "    }\n",
       "\n",
       "    .dataframe tbody tr th {\n",
       "        vertical-align: top;\n",
       "    }\n",
       "\n",
       "    .dataframe thead th {\n",
       "        text-align: right;\n",
       "    }\n",
       "</style>\n",
       "<table border=\"1\" class=\"dataframe\">\n",
       "  <thead>\n",
       "    <tr style=\"text-align: right;\">\n",
       "      <th></th>\n",
       "      <th>id</th>\n",
       "      <th>nome</th>\n",
       "      <th>preco</th>\n",
       "    </tr>\n",
       "  </thead>\n",
       "  <tbody>\n",
       "    <tr>\n",
       "      <th>0</th>\n",
       "      <td>1</td>\n",
       "      <td>Pão de forma</td>\n",
       "      <td>10,15</td>\n",
       "    </tr>\n",
       "    <tr>\n",
       "      <th>1</th>\n",
       "      <td>2</td>\n",
       "      <td>Macarrão</td>\n",
       "      <td>4,2</td>\n",
       "    </tr>\n",
       "    <tr>\n",
       "      <th>2</th>\n",
       "      <td>3</td>\n",
       "      <td>Café</td>\n",
       "      <td>14,9</td>\n",
       "    </tr>\n",
       "    <tr>\n",
       "      <th>3</th>\n",
       "      <td>4</td>\n",
       "      <td>Vinho</td>\n",
       "      <td>89,9</td>\n",
       "    </tr>\n",
       "    <tr>\n",
       "      <th>4</th>\n",
       "      <td>5</td>\n",
       "      <td>Leite</td>\n",
       "      <td>6,1</td>\n",
       "    </tr>\n",
       "  </tbody>\n",
       "</table>\n",
       "</div>"
      ],
      "text/plain": [
       "   id          nome  preco\n",
       "0   1  Pão de forma  10,15\n",
       "1   2      Macarrão    4,2\n",
       "2   3          Café   14,9\n",
       "3   4         Vinho   89,9\n",
       "4   5         Leite    6,1"
      ]
     },
     "metadata": {},
     "output_type": "display_data"
    }
   ],
   "source": [
    "# Exibindo dataframes\n",
    "display(df_pedidos.head())\n",
    "display(df_produtos.head())"
   ]
  },
  {
   "cell_type": "markdown",
   "id": "ec65e744-c971-4854-92c5-678df8057e14",
   "metadata": {},
   "source": [
    "### Solução"
   ]
  },
  {
   "cell_type": "code",
   "execution_count": 7,
   "id": "678f00b0-ff91-4323-9614-f381f71ba319",
   "metadata": {},
   "outputs": [],
   "source": [
    "def promocoes_cruzadas(pedidos: pd.DataFrame, produtos: pd.DataFrame):    \n",
    "    # Filtrando apenas pedidos a partir de 2022 \n",
    "    pedidos_2022 = pedidos[pedidos['data_criacao'] >= '2022-01-01']\n",
    "    \n",
    "    # Mesclando dataframes\n",
    "    pedidos_produtos = pd.merge(pedidos_2022, produtos, left_on='produto_id', right_on='id', how='inner')\n",
    "    \n",
    "    # Criando um novo dataframe para armazenar as combinações de produtos\n",
    "    combinacoes = pd.merge(pedidos_produtos, pedidos_produtos, on='usuario_id', suffixes=('_01', '_02'))\n",
    "    \n",
    "    # Filtrando apenas as combinações por ordem alfabética\n",
    "    combinacoes = combinacoes[combinacoes['nome_01'] < combinacoes['nome_02']]\n",
    "    \n",
    "    # Agrupando e contando as combinações de produtos\n",
    "    combinacoes_contadas = combinacoes.groupby(['nome_01', 'nome_02']).size().reset_index(name='quantidade')\n",
    "    \n",
    "    # Ordenando as combinações por quantidade e nome do primeiro produto\n",
    "    combinacoes_ordenadas = combinacoes_contadas.sort_values(by=['quantidade', 'nome_01'], ascending=[False, True])\n",
    "\n",
    "    # Renomeando colunas\n",
    "    combinacoes_ordenadas.rename(columns={'nome_01': 'produto_01', 'nome_02': 'produto_02'}, inplace=True)\n",
    "    \n",
    "    # Selecionando as cinco principais combinações\n",
    "    top_5_combinacoes = combinacoes_ordenadas.head(5)\n",
    "    \n",
    "    return top_5_combinacoes"
   ]
  },
  {
   "cell_type": "code",
   "execution_count": 8,
   "id": "0e8504d0-fb09-434d-bc56-75acd7e38ab3",
   "metadata": {},
   "outputs": [
    {
     "data": {
      "text/html": [
       "<div>\n",
       "<style scoped>\n",
       "    .dataframe tbody tr th:only-of-type {\n",
       "        vertical-align: middle;\n",
       "    }\n",
       "\n",
       "    .dataframe tbody tr th {\n",
       "        vertical-align: top;\n",
       "    }\n",
       "\n",
       "    .dataframe thead th {\n",
       "        text-align: right;\n",
       "    }\n",
       "</style>\n",
       "<table border=\"1\" class=\"dataframe\">\n",
       "  <thead>\n",
       "    <tr style=\"text-align: right;\">\n",
       "      <th></th>\n",
       "      <th>produto_01</th>\n",
       "      <th>produto_02</th>\n",
       "      <th>quantidade</th>\n",
       "    </tr>\n",
       "  </thead>\n",
       "  <tbody>\n",
       "    <tr>\n",
       "      <th>3</th>\n",
       "      <td>Manteiga</td>\n",
       "      <td>Pão de forma</td>\n",
       "      <td>5</td>\n",
       "    </tr>\n",
       "    <tr>\n",
       "      <th>2</th>\n",
       "      <td>Macarrão</td>\n",
       "      <td>Molho de tomate</td>\n",
       "      <td>4</td>\n",
       "    </tr>\n",
       "    <tr>\n",
       "      <th>0</th>\n",
       "      <td>Café</td>\n",
       "      <td>Filtro descartável</td>\n",
       "      <td>3</td>\n",
       "    </tr>\n",
       "    <tr>\n",
       "      <th>4</th>\n",
       "      <td>Saca rolha</td>\n",
       "      <td>Vinho</td>\n",
       "      <td>2</td>\n",
       "    </tr>\n",
       "    <tr>\n",
       "      <th>1</th>\n",
       "      <td>Cereal matinal</td>\n",
       "      <td>Leite</td>\n",
       "      <td>1</td>\n",
       "    </tr>\n",
       "  </tbody>\n",
       "</table>\n",
       "</div>"
      ],
      "text/plain": [
       "       produto_01          produto_02  quantidade\n",
       "3        Manteiga        Pão de forma           5\n",
       "2        Macarrão     Molho de tomate           4\n",
       "0            Café  Filtro descartável           3\n",
       "4      Saca rolha               Vinho           2\n",
       "1  Cereal matinal               Leite           1"
      ]
     },
     "execution_count": 8,
     "metadata": {},
     "output_type": "execute_result"
    }
   ],
   "source": [
    "promocoes_cruzadas(df_pedidos, df_produtos)"
   ]
  }
 ],
 "metadata": {
  "kernelspec": {
   "display_name": "Python 3 (ipykernel)",
   "language": "python",
   "name": "python3"
  },
  "language_info": {
   "codemirror_mode": {
    "name": "ipython",
    "version": 3
   },
   "file_extension": ".py",
   "mimetype": "text/x-python",
   "name": "python",
   "nbconvert_exporter": "python",
   "pygments_lexer": "ipython3",
   "version": "3.11.7"
  }
 },
 "nbformat": 4,
 "nbformat_minor": 5
}
